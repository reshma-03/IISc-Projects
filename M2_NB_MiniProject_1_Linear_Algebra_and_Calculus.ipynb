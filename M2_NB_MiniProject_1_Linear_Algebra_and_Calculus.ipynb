{
  "nbformat": 4,
  "nbformat_minor": 0,
  "metadata": {
    "colab": {
      "provenance": []
    },
    "kernelspec": {
      "display_name": "Python 3",
      "language": "python",
      "name": "python3"
    },
    "language_info": {
      "codemirror_mode": {
        "name": "ipython",
        "version": 3
      },
      "file_extension": ".py",
      "mimetype": "text/x-python",
      "name": "python",
      "nbconvert_exporter": "python",
      "pygments_lexer": "ipython3",
      "version": "3.8.5"
    }
  },
  "cells": [
    {
      "cell_type": "markdown",
      "metadata": {
        "id": "Vf7UdufgUVRm"
      },
      "source": [
        "# Advanced Certification Program in Computational Data Science\n",
        "## A program by IISc and TalentSprint\n",
        "### Mini Project Notebook: Linear Algebra and Calculus"
      ]
    },
    {
      "cell_type": "markdown",
      "metadata": {
        "id": "TnGEuHJusOup"
      },
      "source": [
        "## Problem Statement"
      ]
    },
    {
      "cell_type": "markdown",
      "metadata": {
        "id": "xlkm2qM2sQ-T"
      },
      "source": [
        " The task is to advise a petroleum company on how to meet the demands of their customers for motor oil, diesel oil and gasoline."
      ]
    },
    {
      "cell_type": "markdown",
      "metadata": {
        "id": "cs0B3ScgUVRv"
      },
      "source": [
        "## Learning Objectives"
      ]
    },
    {
      "cell_type": "markdown",
      "metadata": {
        "id": "Sq5piVQRUVRw"
      },
      "source": [
        "At the end of the experiment, you will be able to\n",
        "\n",
        "* create arrays and matrices in python\n",
        "* understand the concepts of linear equations\n",
        "* solve the system of linear equations"
      ]
    },
    {
      "cell_type": "markdown",
      "metadata": {
        "id": "IvKa0MVttqXf"
      },
      "source": [
        "### Data"
      ]
    },
    {
      "cell_type": "markdown",
      "metadata": {
        "id": "dRrGFyZOtsAj"
      },
      "source": [
        "From a barrel of crude oil, in one day, factory $A$ can produce\n",
        "* 20 gallons of motor oil,\n",
        "* 10 gallons of diesel oil, and\n",
        "* 5 gallons of gasoline\n",
        "\n",
        "Similarly, factory $B$ can produce\n",
        "* 4 gallons of motor oil,\n",
        "* 14 gallons of diesel oil, and\n",
        "* 5 gallons of gasoline\n",
        "\n",
        "while factory $C$ can produce\n",
        "* 4 gallons of motor oil,\n",
        "* 5 gallons of diesel oil, and\n",
        "* 12 gallons of gasoline\n",
        "\n",
        "There is also waste in the form of paraffin, among other things. Factory $A$ has 3 gallons of paraffin to dispose of per barrel of crude, factory $B$ 5 gallons, and factory $C$ 2 gallons."
      ]
    },
    {
      "cell_type": "markdown",
      "metadata": {
        "id": "UK_englE4HnA"
      },
      "source": [
        "**Note:** Your conclusion should include a discussion of the nature of the terms *unique*, *no solution*, *overdetermined* and *underdetermined* as they apply in the context of the oil plants."
      ]
    },
    {
      "cell_type": "markdown",
      "metadata": {
        "id": "operating-latter"
      },
      "source": [
        "## Grading = 10 Points"
      ]
    },
    {
      "cell_type": "markdown",
      "metadata": {
        "id": "zAitCztdraex"
      },
      "source": [
        "### Create an array\n",
        "\n",
        "Create an array of size 2x3 with arbitrary values."
      ]
    },
    {
      "cell_type": "code",
      "metadata": {
        "id": "owKFXLLzrqVb",
        "colab": {
          "base_uri": "https://localhost:8080/"
        },
        "outputId": "8720ddd8-e23b-4bc1-a818-8cf6949896ca"
      },
      "source": [
        "# YOUR CODE HERE\n",
        "import numpy as np\n",
        "#array = np.random.random((2,3))\n",
        "array = np.array([[-4,2,6], [1,-5,3]])\n",
        "array"
      ],
      "execution_count": null,
      "outputs": [
        {
          "output_type": "execute_result",
          "data": {
            "text/plain": [
              "array([[-4,  2,  6],\n",
              "       [ 1, -5,  3]])"
            ]
          },
          "metadata": {},
          "execution_count": 1
        }
      ]
    },
    {
      "cell_type": "markdown",
      "metadata": {
        "id": "K_7EztnGvzDK"
      },
      "source": [
        "### Create the system of Linear Equations"
      ]
    },
    {
      "cell_type": "markdown",
      "metadata": {
        "id": "zL9M9kmrv_ZA"
      },
      "source": [
        "Suppose the current daily demand from distributors is 6600 gallons of motor oil, 5100 gallons of diesel oil and 3100 of gasoline.\n",
        "\n",
        "Set up the system of equations which describes the above situation. Please include the units as well."
      ]
    },
    {
      "cell_type": "markdown",
      "metadata": {
        "id": "nbOcii0EZpUI"
      },
      "source": [
        "Let the number of barrels used by factory $A$, $B$ and $C$ are $x$, $y$ and $z$ respectively.\n",
        "\n",
        "Then the system of linear equations will be\n",
        "\n",
        "$$Motor\\ oil:\\ \\ \\ 20x + 4y + 4z = 6600$$\n",
        "\n",
        "$$Diesel\\ oil:\\ \\ \\ 10x + 14y + 5z = 5100$$\n",
        "\n",
        "$$Gasoline:\\ \\ \\ 5x + 5y + 12z = 3100$$"
      ]
    },
    {
      "cell_type": "markdown",
      "metadata": {
        "id": "1qLF2LvG2I8Y"
      },
      "source": [
        "### Solve the system of Linear Equation (2 points)"
      ]
    },
    {
      "cell_type": "markdown",
      "metadata": {
        "id": "FzjOkaq21_8L"
      },
      "source": [
        "How many barrels of crude oil each plant should get in order to meet the demand as a group. Remember that we can only provide each plant with an integral number of barrels."
      ]
    },
    {
      "cell_type": "code",
      "metadata": {
        "id": "Plx-kStlcGOW",
        "colab": {
          "base_uri": "https://localhost:8080/"
        },
        "outputId": "f7d5c25c-3c7d-4f90-88bb-29037166341d"
      },
      "source": [
        "# YOUR CODE HERE\n",
        "A = np.array([[20, 4, 4], [10, 14, 5], [5, 5, 12]])\n",
        "b1 = np.array([6600, 5100,  3100])\n",
        "\n",
        "def check_unique_solution(A, b):\n",
        "  augmented_matrix = np.column_stack((A,b1))\n",
        "  rank_A = np.linalg.matrix_rank(A)\n",
        "  rank_augmented = np.linalg.matrix_rank(augmented_matrix)\n",
        "  if rank_A == rank_augmented and rank_A == A.shape[1]:\n",
        "    print(\"The system has a unique solution.\")\n",
        "  else:\n",
        "    print(\"The system does not have a unique solution\")\n",
        "\n",
        "check_unique_solution(A,b1)\n",
        "x1 = np.ceil(np.linalg.solve(A,b1))\n",
        "print(f'The number of barrels required by factory A, B and C to meet the demand are {x1[0]}, {x1[1]} and {x1[2]} respectively')"
      ],
      "execution_count": null,
      "outputs": [
        {
          "output_type": "stream",
          "name": "stdout",
          "text": [
            "The system has a unique solution.\n",
            "The number of barrels required by factory A, B and C to meet the demand are 288.0, 129.0 and 85.0 respectively\n"
          ]
        }
      ]
    },
    {
      "cell_type": "code",
      "source": [
        "# Double Check if demand is met\n",
        "np.dot(A, x1) >= b1"
      ],
      "metadata": {
        "colab": {
          "base_uri": "https://localhost:8080/"
        },
        "id": "_kHFsBAQQsgL",
        "outputId": "c2311944-a1c9-40e6-84f5-95bdfd1acbb1"
      },
      "execution_count": null,
      "outputs": [
        {
          "output_type": "execute_result",
          "data": {
            "text/plain": [
              "array([ True,  True,  True])"
            ]
          },
          "metadata": {},
          "execution_count": 3
        }
      ]
    },
    {
      "cell_type": "markdown",
      "metadata": {
        "id": "nY-rFiKAbVl3"
      },
      "source": [
        "Suppose the total demand for all products **doubled**. What would the solution now be? How does it compare to the original solution? Why, mathematically, should this have been expected?"
      ]
    },
    {
      "cell_type": "code",
      "metadata": {
        "id": "OODSS2bFcjKV",
        "colab": {
          "base_uri": "https://localhost:8080/"
        },
        "outputId": "66f4678d-73e9-4f52-c409-d5509294cc8c"
      },
      "source": [
        "# YOUR CODE HERE\n",
        "b2 = 2*b1\n",
        "check_unique_solution(A,b2)\n",
        "x2 = np.ceil(np.linalg.solve(A, b2))\n",
        "print(f'The number of barrels required by factory A, B and C to meet the doubled demand are {x2[0]}, {x2[1]} and {x2[2]} respectively')"
      ],
      "execution_count": null,
      "outputs": [
        {
          "output_type": "stream",
          "name": "stdout",
          "text": [
            "The system has a unique solution.\n",
            "The number of barrels required by factory A, B and C to meet the doubled demand are 575.0, 258.0 and 170.0 respectively\n"
          ]
        }
      ]
    },
    {
      "cell_type": "code",
      "source": [
        "np.linalg.solve(A, b2)/np.linalg.solve(A,b1)"
      ],
      "metadata": {
        "colab": {
          "base_uri": "https://localhost:8080/"
        },
        "id": "jZ7DuJwXcEqo",
        "outputId": "1461c06d-945c-44cc-9d77-5a22bcb3a4b7"
      },
      "execution_count": null,
      "outputs": [
        {
          "output_type": "execute_result",
          "data": {
            "text/plain": [
              "array([2., 2., 2.])"
            ]
          },
          "metadata": {},
          "execution_count": 5
        }
      ]
    },
    {
      "cell_type": "markdown",
      "source": [
        "The number of barrels got doubled by doubling the demand. We can represent x1 = A^-1 * b1, x2 = A^-1 * (2 b1) = 2 (A^-1 * b1) = 2 * x1\n"
      ],
      "metadata": {
        "id": "H0zODZABvrPB"
      }
    },
    {
      "cell_type": "markdown",
      "metadata": {
        "id": "p_1a-z0Gds6D"
      },
      "source": [
        "Suppose that the company acquires another group of distributors and that the daily demand of this group is 2000 gallons of motor oil, 4000 gallons of gasoline, and 4000 gallons of diesel oil. How would you set up production of just this supply? Are there any options (more than one way)?"
      ]
    },
    {
      "cell_type": "code",
      "metadata": {
        "id": "gWaeKh6eQe2W",
        "colab": {
          "base_uri": "https://localhost:8080/"
        },
        "outputId": "a164655e-e33f-434c-ce47-1d2dc1f81d52"
      },
      "source": [
        "# YOUR CODE HERE\n",
        "b3 = np.array([2000, 4000, 4000])\n",
        "check_unique_solution(A,b3)\n",
        "x3 = np.ceil(np.linalg.solve(A, b3))\n",
        "print(f'The number of barrels required by factory A, B and C to meet the new demand are {x3[0]}, {x3[1]} and {x3[2]} respectively')"
      ],
      "execution_count": null,
      "outputs": [
        {
          "output_type": "stream",
          "name": "stdout",
          "text": [
            "The system has a unique solution.\n",
            "The number of barrels required by factory A, B and C to meet the new demand are 13.0, 188.0 and 250.0 respectively\n"
          ]
        }
      ]
    },
    {
      "cell_type": "code",
      "source": [
        "import sympy as sy\n",
        "augmented_matrix = sy.Matrix(np.column_stack((A,b3)))\n",
        "augmented_matrix.rref()"
      ],
      "metadata": {
        "colab": {
          "base_uri": "https://localhost:8080/"
        },
        "id": "TohDXpbZVqfs",
        "outputId": "582fa0b0-a8a5-4d32-b932-d7d83cf2fa2a"
      },
      "execution_count": null,
      "outputs": [
        {
          "output_type": "execute_result",
          "data": {
            "text/plain": [
              "(Matrix([\n",
              " [1, 0, 0,  25/2],\n",
              " [0, 1, 0, 375/2],\n",
              " [0, 0, 1,   250]]),\n",
              " (0, 1, 2))"
            ]
          },
          "metadata": {},
          "execution_count": 7
        }
      ]
    },
    {
      "cell_type": "markdown",
      "source": [
        "We have a unique solution to the above augmented matrix. Hence, there's only one way."
      ],
      "metadata": {
        "id": "KPm2QaozVlaT"
      }
    },
    {
      "cell_type": "markdown",
      "metadata": {
        "id": "H4sayZf1etbN"
      },
      "source": [
        "Next, calculate the needs of each factory (in barrels of crude, as usual) to meet the total demand of both groups of distributors. When you have done this, compare your answer to results already obtained. What mathematical conclusion can you draw?"
      ]
    },
    {
      "cell_type": "code",
      "metadata": {
        "id": "Hjm5kcawewgT",
        "colab": {
          "base_uri": "https://localhost:8080/"
        },
        "outputId": "1c5c8743-0314-4f68-b716-c7f8289cb3e1"
      },
      "source": [
        "# YOUR CODE HERE\n",
        "b4 = b1 + b3\n",
        "check_unique_solution(A,b4)\n",
        "x4 = np.ceil(np.linalg.solve(A, b4))\n",
        "print(f'The number of barrels required by factory A, B and C to meet the total demand of both groups of distributors are {x4[0]}, {x4[1]} and {x4[2]} respectively')"
      ],
      "execution_count": null,
      "outputs": [
        {
          "output_type": "stream",
          "name": "stdout",
          "text": [
            "The system has a unique solution.\n",
            "The number of barrels required by factory A, B and C to meet the total demand of both groups of distributors are 300.0, 317.0 and 335.0 respectively\n"
          ]
        }
      ]
    },
    {
      "cell_type": "code",
      "source": [
        "np.linalg.solve(A, b4) == np.linalg.solve(A, b1) + np.linalg.solve(A, b3)"
      ],
      "metadata": {
        "colab": {
          "base_uri": "https://localhost:8080/"
        },
        "id": "SJdLtl3HdRWb",
        "outputId": "babba600-0b09-4f87-b4d4-2433f4ebab88"
      },
      "execution_count": null,
      "outputs": [
        {
          "output_type": "execute_result",
          "data": {
            "text/plain": [
              "array([ True,  True,  True])"
            ]
          },
          "metadata": {},
          "execution_count": 9
        }
      ]
    },
    {
      "cell_type": "markdown",
      "source": [
        "x4 = A^-1 * b4 = A^-1 * (b1 + b3) = (A^-1 * b1) + (A^-1 * b3) = x1 + x3"
      ],
      "metadata": {
        "id": "L6SgVJfFdZ-D"
      }
    },
    {
      "cell_type": "markdown",
      "metadata": {
        "id": "ov7RWVpSpzhw"
      },
      "source": [
        "### Sensitivity and Robustness (1 point)"
      ]
    },
    {
      "cell_type": "markdown",
      "metadata": {
        "id": "G1MVw0x_fQMC"
      },
      "source": [
        "In real life applications, constants are rarely ever exactly equal to their stated value; certain amounts of uncertainty are always present. This is part of the reason for the science of statistics. In the above model, the daily productions for the plants would be averages over a period of time. Explore what effect small changes in the parameters have on the output.\n",
        "\n",
        "To do this, pick any 3 coefficients, one at a time, and increase or decrease them by 3%. For each case , note what effect this has on the solution, as a percentage change. Can you draw any overall conclusion?"
      ]
    },
    {
      "cell_type": "code",
      "metadata": {
        "id": "ObBZDKvYfqie",
        "colab": {
          "base_uri": "https://localhost:8080/"
        },
        "outputId": "50d20b88-82c5-49b1-bfca-f1863730fa8a"
      },
      "source": [
        "# YOUR CODE HERE\n",
        "A_perturbed = np.hstack(((A[:,0] * 1.03).reshape(-1,1), A[:,1:]))\n",
        "check_unique_solution(A_perturbed,b1)\n",
        "(np.linalg.solve(A_perturbed, b1) - np.linalg.solve(A, b1)) * 100 / np.linalg.solve(A, b1)"
      ],
      "execution_count": null,
      "outputs": [
        {
          "output_type": "stream",
          "name": "stdout",
          "text": [
            "The system has a unique solution.\n"
          ]
        },
        {
          "output_type": "execute_result",
          "data": {
            "text/plain": [
              "array([-2.91262136,  0.        ,  0.        ])"
            ]
          },
          "metadata": {},
          "execution_count": 10
        }
      ]
    },
    {
      "cell_type": "markdown",
      "source": [
        "Increasing the coefficient of factory A by 3% has decreased the barrel used by factory A by around 3% and that of factory B and C is unchanged."
      ],
      "metadata": {
        "id": "h_smQRhYg-Q3"
      }
    },
    {
      "cell_type": "code",
      "source": [
        "A_perturbed = np.hstack(((A[:,0] * 0.97).reshape(-1,1), A[:,1:]))\n",
        "check_unique_solution(A_perturbed,b1)\n",
        "(np.linalg.solve(A_perturbed, b1) - np.linalg.solve(A, b1)) * 100 / np.linalg.solve(A, b1)"
      ],
      "metadata": {
        "colab": {
          "base_uri": "https://localhost:8080/"
        },
        "id": "BxIim2bMg8tP",
        "outputId": "4ea76961-147b-4eb2-8491-2f3bdae60a36"
      },
      "execution_count": null,
      "outputs": [
        {
          "output_type": "stream",
          "name": "stdout",
          "text": [
            "The system has a unique solution.\n"
          ]
        },
        {
          "output_type": "execute_result",
          "data": {
            "text/plain": [
              "array([3.09278351, 0.        , 0.        ])"
            ]
          },
          "metadata": {},
          "execution_count": 11
        }
      ]
    },
    {
      "cell_type": "markdown",
      "source": [
        "Decreasing the coefficient of factory A by 3% has increased the barrel used by factory A by around 3% and that of factory B and C is unchanged."
      ],
      "metadata": {
        "id": "NNfKAM0Mhg9v"
      }
    },
    {
      "cell_type": "code",
      "source": [
        "A_perturbed = np.hstack((A[:,0].reshape(-1,1) , (A[:,1] * 1.03).reshape(-1,1), A[:,2].reshape(-1,1)))\n",
        "check_unique_solution(A_perturbed,b1)\n",
        "(np.linalg.solve(A_perturbed, b1) - np.linalg.solve(A, b1)) * 100 / np.linalg.solve(A, b1)"
      ],
      "metadata": {
        "colab": {
          "base_uri": "https://localhost:8080/"
        },
        "id": "mSnUEt2PhtIy",
        "outputId": "94c46ea3-d185-4e93-9298-60b14af494fa"
      },
      "execution_count": null,
      "outputs": [
        {
          "output_type": "stream",
          "name": "stdout",
          "text": [
            "The system has a unique solution.\n"
          ]
        },
        {
          "output_type": "execute_result",
          "data": {
            "text/plain": [
              "array([ 0.00000000e+00, -2.91262136e+00, -1.67186526e-14])"
            ]
          },
          "metadata": {},
          "execution_count": 12
        }
      ]
    },
    {
      "cell_type": "code",
      "source": [
        "A_perturbed = np.hstack((A[:,0].reshape(-1,1) , (A[:,1] * 0.97).reshape(-1,1), A[:,2].reshape(-1,1)))\n",
        "check_unique_solution(A_perturbed,b1)\n",
        "(np.linalg.solve(A_perturbed, b1) - np.linalg.solve(A, b1)) * 100 / np.linalg.solve(A, b1)"
      ],
      "metadata": {
        "colab": {
          "base_uri": "https://localhost:8080/"
        },
        "id": "txP19s9_wky4",
        "outputId": "d58c588f-d8f2-48c0-db6a-501d5bc73fba"
      },
      "execution_count": null,
      "outputs": [
        {
          "output_type": "stream",
          "name": "stdout",
          "text": [
            "The system has a unique solution.\n"
          ]
        },
        {
          "output_type": "execute_result",
          "data": {
            "text/plain": [
              "array([0.        , 3.09278351, 0.        ])"
            ]
          },
          "metadata": {},
          "execution_count": 13
        }
      ]
    },
    {
      "cell_type": "code",
      "source": [
        "A_perturbed = np.hstack((A[:,:2], (A[:,2] * 1.03).reshape(-1,1)))\n",
        "check_unique_solution(A_perturbed,b1)\n",
        "(np.linalg.solve(A_perturbed, b1) - np.linalg.solve(A, b1)) * 100 / np.linalg.solve(A, b1)"
      ],
      "metadata": {
        "colab": {
          "base_uri": "https://localhost:8080/"
        },
        "id": "DrhcZke9iS2f",
        "outputId": "28088e00-4aa3-45bc-be05-8726e875d0c9"
      },
      "execution_count": null,
      "outputs": [
        {
          "output_type": "stream",
          "name": "stdout",
          "text": [
            "The system has a unique solution.\n"
          ]
        },
        {
          "output_type": "execute_result",
          "data": {
            "text/plain": [
              "array([ 0.        ,  0.        , -2.91262136])"
            ]
          },
          "metadata": {},
          "execution_count": 16
        }
      ]
    },
    {
      "cell_type": "code",
      "source": [
        "A_perturbed = np.hstack((A[:,:2], (A[:,2] * 0.97).reshape(-1,1)))\n",
        "check_unique_solution(A_perturbed,b1)\n",
        "(np.linalg.solve(A_perturbed, b1) - np.linalg.solve(A, b1)) * 100 / np.linalg.solve(A, b1)"
      ],
      "metadata": {
        "colab": {
          "base_uri": "https://localhost:8080/"
        },
        "id": "dAHrC61ewp5Q",
        "outputId": "f9293ef3-1c79-4001-828d-52b5b3bf6b87"
      },
      "execution_count": null,
      "outputs": [
        {
          "output_type": "stream",
          "name": "stdout",
          "text": [
            "The system has a unique solution.\n"
          ]
        },
        {
          "output_type": "execute_result",
          "data": {
            "text/plain": [
              "array([0.        , 0.        , 3.09278351])"
            ]
          },
          "metadata": {},
          "execution_count": 17
        }
      ]
    },
    {
      "cell_type": "markdown",
      "source": [
        "Similar behavior with factory B and C coefficient.\n",
        "\n",
        "Overall conclusion : The system is robust and stable. Increasing the coefficient value by x% decreases the barrel used by that factory by x% approximately and vice-versa."
      ],
      "metadata": {
        "id": "zO2u77dajEA0"
      }
    },
    {
      "cell_type": "markdown",
      "metadata": {
        "id": "JOj5wcxQpzhx"
      },
      "source": [
        "### A Plant Off-Line (1 point)"
      ]
    },
    {
      "cell_type": "markdown",
      "metadata": {
        "id": "Dbm0HcJ7frNz"
      },
      "source": [
        "Suppose factory $C$ is shut down by the EPA (Environmental Protection Agency) temporarily for excessive emissions into the atmosphere. If your demand is as it was originally (6600, 5100, 3100), what would you now say about the companies ability to meet it? What do you recommend they schedule for production now?"
      ]
    },
    {
      "cell_type": "markdown",
      "source": [
        "20x + 4y = 6600\n",
        "\n",
        "\n",
        "10x + 14y = 5100\n",
        "\n",
        "\n",
        "5x + 5y = 3100\n",
        "\n",
        "\n",
        "3 equations and 2 unknows. Over-determined system."
      ],
      "metadata": {
        "id": "lL05WA7yj2-E"
      }
    },
    {
      "cell_type": "code",
      "metadata": {
        "id": "gpbtzvrVAST3",
        "colab": {
          "base_uri": "https://localhost:8080/"
        },
        "outputId": "088557b6-be78-4af0-c4cc-ff3f07134a64"
      },
      "source": [
        "# YOUR CODE HERE\n",
        "A_new = A[:,:2]\n",
        "A_new"
      ],
      "execution_count": null,
      "outputs": [
        {
          "output_type": "execute_result",
          "data": {
            "text/plain": [
              "array([[20,  4],\n",
              "       [10, 14],\n",
              "       [ 5,  5]])"
            ]
          },
          "metadata": {},
          "execution_count": 14
        }
      ]
    },
    {
      "cell_type": "code",
      "source": [
        "check_unique_solution(A_new,b1)"
      ],
      "metadata": {
        "colab": {
          "base_uri": "https://localhost:8080/"
        },
        "id": "ziXjrJsl3HNz",
        "outputId": "d65a0204-7458-40f4-9e30-ca4d9870ecd6"
      },
      "execution_count": null,
      "outputs": [
        {
          "output_type": "stream",
          "name": "stdout",
          "text": [
            "The system does not have a unique solution\n"
          ]
        }
      ]
    },
    {
      "cell_type": "code",
      "source": [
        "# Normal equation approach\n",
        "print('Rank of normal equation : ',np.linalg.matrix_rank(np.dot(A_new.T, A_new)))\n",
        "solve_normal = np.ceil(np.linalg.solve(np.dot(A_new.T, A_new), np.dot(A_new.T, b1)))\n",
        "solve_normal"
      ],
      "metadata": {
        "colab": {
          "base_uri": "https://localhost:8080/"
        },
        "id": "nh9hvnfMP8BS",
        "outputId": "d429f1ae-c0ce-4714-8a67-d057a9599584"
      },
      "execution_count": null,
      "outputs": [
        {
          "output_type": "stream",
          "name": "stdout",
          "text": [
            "Rank of normal equation :  2\n"
          ]
        },
        {
          "output_type": "execute_result",
          "data": {
            "text/plain": [
              "array([300., 169.])"
            ]
          },
          "metadata": {},
          "execution_count": 16
        }
      ]
    },
    {
      "cell_type": "code",
      "source": [
        "np.dot(A_new, solve_normal) >= b1"
      ],
      "metadata": {
        "colab": {
          "base_uri": "https://localhost:8080/"
        },
        "id": "SkMLK3EqQTg7",
        "outputId": "da30e496-ba5b-404a-cae6-45d31307055d"
      },
      "execution_count": null,
      "outputs": [
        {
          "output_type": "execute_result",
          "data": {
            "text/plain": [
              "array([ True,  True, False])"
            ]
          },
          "metadata": {},
          "execution_count": 17
        }
      ]
    },
    {
      "cell_type": "code",
      "source": [
        "solve12 = np.ceil(np.linalg.solve(A_new[:2,:], b1[:2])) # Use 1st and 2nd equations\n",
        "solve23 = np.ceil(np.linalg.solve(A_new[1:,:], b1[1:])) # Use 2nd and 3rd equations\n",
        "solve13 = np.ceil(np.linalg.solve(A_new[[0,2],:], b1[[0,2]])) # Use 1st and 3rd equations\n",
        "solve12, solve23, solve13"
      ],
      "metadata": {
        "colab": {
          "base_uri": "https://localhost:8080/"
        },
        "id": "QzCDJva3klia",
        "outputId": "da5dc92a-4cb8-4466-c414-c4e960171cb8"
      },
      "execution_count": null,
      "outputs": [
        {
          "output_type": "execute_result",
          "data": {
            "text/plain": [
              "(array([300., 150.]), array([ 895., -275.]), array([258., 363.]))"
            ]
          },
          "metadata": {},
          "execution_count": 18
        }
      ]
    },
    {
      "cell_type": "code",
      "source": [
        "np.dot(A_new, solve12) == b1"
      ],
      "metadata": {
        "colab": {
          "base_uri": "https://localhost:8080/"
        },
        "id": "WQr_XvuSnfgg",
        "outputId": "ebc579ba-83c0-4c0c-ea84-8bb47fe8780b"
      },
      "execution_count": null,
      "outputs": [
        {
          "output_type": "execute_result",
          "data": {
            "text/plain": [
              "array([ True,  True, False])"
            ]
          },
          "metadata": {},
          "execution_count": 23
        }
      ]
    },
    {
      "cell_type": "code",
      "source": [
        "np.dot(A_new, solve13) == b1"
      ],
      "metadata": {
        "colab": {
          "base_uri": "https://localhost:8080/"
        },
        "id": "hkrgvD_lnxMv",
        "outputId": "388bf95f-65ae-4b2b-826e-39600ae79181"
      },
      "execution_count": null,
      "outputs": [
        {
          "output_type": "execute_result",
          "data": {
            "text/plain": [
              "array([False, False, False])"
            ]
          },
          "metadata": {},
          "execution_count": 22
        }
      ]
    },
    {
      "cell_type": "code",
      "source": [
        "np.dot(A_new, solve13) >= b1"
      ],
      "metadata": {
        "colab": {
          "base_uri": "https://localhost:8080/"
        },
        "id": "mlh-5Jbv4du4",
        "outputId": "e186f4c8-f21e-44f0-957e-bbfecf451056"
      },
      "execution_count": null,
      "outputs": [
        {
          "output_type": "execute_result",
          "data": {
            "text/plain": [
              "array([ True,  True,  True])"
            ]
          },
          "metadata": {},
          "execution_count": 23
        }
      ]
    },
    {
      "cell_type": "code",
      "source": [
        "solve13"
      ],
      "metadata": {
        "id": "xmgGZvJ94zbu",
        "colab": {
          "base_uri": "https://localhost:8080/"
        },
        "outputId": "d414dc50-3ec1-4093-b371-dfbb0c8486e7"
      },
      "execution_count": null,
      "outputs": [
        {
          "output_type": "execute_result",
          "data": {
            "text/plain": [
              "array([258., 363.])"
            ]
          },
          "metadata": {},
          "execution_count": 24
        }
      ]
    },
    {
      "cell_type": "markdown",
      "source": [
        "The solution of normal equation does not satisfy the minimum gosoline requirment.\n",
        "The solution with last two equations dont make sense as the value cant be negative. The solution with 1st and 2nd equation doesn't satisfy the requirment for gasoline. The solution with 1st and 3rd equation doesn't satisfy equation 2 exactly. There is no unique solution satisfying all equations simultaneously. However, the solution with 1st and 3rd equation satifies the minimum requirement demand. Would recommend x=258., y=363. barrels as the schedule for production."
      ],
      "metadata": {
        "id": "9EccuiHmmvpg"
      }
    },
    {
      "cell_type": "markdown",
      "metadata": {
        "id": "tZpzEVmEpzhx"
      },
      "source": [
        "### Buying another plant"
      ]
    },
    {
      "cell_type": "markdown",
      "metadata": {
        "id": "X0ghbS-s3Mel"
      },
      "source": [
        "####(Note the following given information. You will see questions in continuation to this, in the subsequent sections)\n",
        "\n",
        "This situation has caused enough concern that the CEO is considering buying another plant, identical to the third, and using it permanently. Assuming that all 4 plants are on line, what production do you recommend to meet the current demand (5000, 8500, 10000)? In general, what can you say about any increased flexibility that the 4th plant might provide?"
      ]
    },
    {
      "cell_type": "markdown",
      "metadata": {
        "id": "IcbiTq8zpzhx"
      },
      "source": [
        "Let the number of barrels used by factory $A$, $B$, $C$ and $D$ are $x$, $y$, $z$ and $w$ respectively.\n",
        "\n",
        "Then the system of linear equations will be\n",
        "\n",
        "$$20x + 4y + 4z + 4w = 5000$$\n",
        "\n",
        "$$10x + 14y + 5z + 5w = 8500$$\n",
        "\n",
        "$$5x + 5y + 12z + 12w = 10000$$\n",
        "\n",
        "The above system of linear equation has fewer equations than variables, hence it is *underdetermined* and cannot have a unique solution. In this case, there are either infinitely many solutions or no exact solution. We can solve it by keeping $w$ as constant and using [rref](http://linear.ups.edu/html/section-RREF.html) form to solve the system of linear equation.\n",
        "\n",
        "To know about rref implementation in python refer [here](https://docs.sympy.org/latest/tutorial/matrices.html#rref)."
      ]
    },
    {
      "cell_type": "code",
      "metadata": {
        "id": "DnCYG65tB8gp",
        "colab": {
          "base_uri": "https://localhost:8080/"
        },
        "outputId": "f4282e8d-fb8d-4657-ba1f-edf26ab0c437"
      },
      "source": [
        "import sympy as sy\n",
        "\n",
        "# create symbol 'w'\n",
        "w = sy.Symbol(\"w\")\n",
        "A_aug = sy.Matrix([[20, 4, 4, 5000-4*w],\n",
        "                   [10, 14, 5, 8500-5*w],\n",
        "                   [5, 5, 12, 10000-12*w]])\n",
        "# show rref form\n",
        "mat, _ = A_aug.rref()\n",
        "print(mat)\n",
        "print(f'The number of barrels required by factory A and B to meet the demand of distributors are {np.ceil(mat[0,3])}, {np.ceil(mat[1,3])} respectively, C + D = 675 barrels')"
      ],
      "execution_count": null,
      "outputs": [
        {
          "output_type": "stream",
          "name": "stdout",
          "text": [
            "Matrix([[1, 0, 0, 195/4], [0, 1, 0, 1325/4], [0, 0, 1, 675 - w]])\n",
            "The number of barrels required by factory A and B to meet the demand of distributors are 49, 332 respectively, C + D = 675 barrels\n"
          ]
        }
      ]
    },
    {
      "cell_type": "markdown",
      "source": [
        "x = 195/4 , y = 1325/4, z = 675-w. We have infinite solutions [w and z should be chosen in such a way that w+z = 675]."
      ],
      "metadata": {
        "id": "1sNiYNpg7AaZ"
      }
    },
    {
      "cell_type": "markdown",
      "metadata": {
        "id": "1lcEL3n5pzhz"
      },
      "source": [
        "From the above result, it can be seen that 4th plant will share the number of barrels required by the 3rd plant only, while the requirement of 1st and 2nd plant will remain unaffected."
      ]
    },
    {
      "cell_type": "markdown",
      "metadata": {
        "id": "yE9hCfAMpzhz"
      },
      "source": [
        "### Calculate the amount of Paraffin supplied (1 point)"
      ]
    },
    {
      "cell_type": "markdown",
      "metadata": {
        "id": "u9HSGUeZquXD"
      },
      "source": [
        "The company has just found a candle company that will buy its paraffin. Under the current conditions (i.e, after buying another plant) for demand (5000, 8500, 10000), how much can be supplied to them per day?"
      ]
    },
    {
      "cell_type": "markdown",
      "metadata": {
        "id": "ilEui1GHA3Oh"
      },
      "source": [
        "According to the problem statement, factory $A$ has 3 gallons of paraffin to dispose of per barrel of crude oil, factory $B$ 5 gallons, and factory $C$ 2 gallons."
      ]
    },
    {
      "cell_type": "code",
      "metadata": {
        "id": "gJnUalG2_r0i",
        "colab": {
          "base_uri": "https://localhost:8080/"
        },
        "outputId": "0301c8bc-823f-4481-cceb-635125a27e04"
      },
      "source": [
        "# YOUR CODE HERE\n",
        "# Assume 2 gallons per barrel of crude oil from factory D as well\n",
        "paraffin_A = np.ceil(195.0/4) * 3\n",
        "paraffin_B = np.ceil(1325.0/4) * 5\n",
        "paraffin_C_D = np.ceil(675) * 2\n",
        "print(f'Amount of paraffin that can be supplied per day is {paraffin_A + paraffin_B + paraffin_C_D} gallons')"
      ],
      "execution_count": null,
      "outputs": [
        {
          "output_type": "stream",
          "name": "stdout",
          "text": [
            "Amount of paraffin that can be supplied per day is 3157.0 gallons\n"
          ]
        }
      ]
    },
    {
      "cell_type": "markdown",
      "metadata": {
        "id": "sSpnIH4Ypzh0"
      },
      "source": [
        "### Selling the first plant (1 point)"
      ]
    },
    {
      "cell_type": "markdown",
      "metadata": {
        "id": "8l3c1GN14EDp"
      },
      "source": [
        "The management is also considering selling the first plant due to aging equipment and high workman's compensation costs for the state it is located in. They would like to know what this would do to their production capability. Specifically, they would like an example of a demand they could not meet with only plants 2 and 3, and also what effect having plant 4 has (recall it is identical to plant 3). They would also like an example of a demand that they could meet with just plants 2 and 3. Any general statements you could make here would be helpful."
      ]
    },
    {
      "cell_type": "markdown",
      "metadata": {
        "id": "qYz46wb2GTo7"
      },
      "source": [
        "Let the number of barrels used by factory $B$, $C$ and $D$ are $y$, $z$ and $w$ respectively.\n",
        "\n",
        "When considering only plants 2 and 3, and demand (5000, 8500, 10000) then we have\n",
        "\n",
        "$$4y + 4z = 5000$$\n",
        "\n",
        "$$14y + 5z = 8500$$\n",
        "\n",
        "$$5y + 12z = 10000$$"
      ]
    },
    {
      "cell_type": "markdown",
      "source": [
        "3 equations and 2 unknows. Overdetermined system."
      ],
      "metadata": {
        "id": "pU50__Elzaf2"
      }
    },
    {
      "cell_type": "code",
      "metadata": {
        "id": "Ru-prbsHGwH_",
        "colab": {
          "base_uri": "https://localhost:8080/"
        },
        "outputId": "e3eaf88e-e650-4f3b-e350-44a480e87a77"
      },
      "source": [
        "# YOUR CODE HERE\n",
        "A_new = np.array([[4,4], [14,5], [5,12]])\n",
        "demand = np.array([5000, 8500, 10000])\n",
        "check_unique_solution(A_new, demand)\n",
        "print('Rank of normal equation : ', np.linalg.matrix_rank(np.dot(A_new.T, A_new)))\n",
        "solve_normal = np.linalg.solve(np.dot(A_new.T, A_new), np.dot(A_new.T, demand))\n",
        "solve12 = np.linalg.solve(np.array([[4,4], [14,5]]), np.array([5000, 8500])) # 1st and 2nd equation\n",
        "solve13 = np.linalg.solve(np.array([[4,4], [5,12]]), np.array([5000, 10000])) # 1st and 3rd equation\n",
        "solve23 = np.linalg.solve(np.array([[14,5], [5,12]]), np.array([8500, 10000])) # 2nd and 3rd equation\n",
        "np.ceil(solve12), np.ceil(solve13), np.ceil(solve23), np.ceil(solve_normal)"
      ],
      "execution_count": null,
      "outputs": [
        {
          "output_type": "stream",
          "name": "stdout",
          "text": [
            "The system does not have a unique solution\n",
            "Rank of normal equation :  2\n"
          ]
        },
        {
          "output_type": "execute_result",
          "data": {
            "text/plain": [
              "(array([ 250., 1000.]),\n",
              " array([715., 536.]),\n",
              " array([364., 682.]),\n",
              " array([370., 696.]))"
            ]
          },
          "metadata": {},
          "execution_count": 20
        }
      ]
    },
    {
      "cell_type": "code",
      "source": [
        "np.dot(A_new, solve12) >= demand"
      ],
      "metadata": {
        "colab": {
          "base_uri": "https://localhost:8080/"
        },
        "id": "2zWbAyzttxAu",
        "outputId": "9c35934e-b82e-4f90-8e44-d3a1392240c9"
      },
      "execution_count": null,
      "outputs": [
        {
          "output_type": "execute_result",
          "data": {
            "text/plain": [
              "array([ True,  True,  True])"
            ]
          },
          "metadata": {},
          "execution_count": 33
        }
      ]
    },
    {
      "cell_type": "code",
      "source": [
        "np.dot(A_new, solve13) >= demand"
      ],
      "metadata": {
        "colab": {
          "base_uri": "https://localhost:8080/"
        },
        "id": "--1XPPA2uMse",
        "outputId": "e6e1cebd-3bb3-4cd5-8641-e955b856e7e8"
      },
      "execution_count": null,
      "outputs": [
        {
          "output_type": "execute_result",
          "data": {
            "text/plain": [
              "array([ True,  True,  True])"
            ]
          },
          "metadata": {},
          "execution_count": 34
        }
      ]
    },
    {
      "cell_type": "code",
      "source": [
        "np.dot(A_new, solve23) >= demand"
      ],
      "metadata": {
        "colab": {
          "base_uri": "https://localhost:8080/"
        },
        "id": "R6qOuIXpuQve",
        "outputId": "43a87a0c-712d-49c9-cd57-ac508eac6080"
      },
      "execution_count": null,
      "outputs": [
        {
          "output_type": "execute_result",
          "data": {
            "text/plain": [
              "array([False,  True,  True])"
            ]
          },
          "metadata": {},
          "execution_count": 35
        }
      ]
    },
    {
      "cell_type": "code",
      "source": [
        "np.dot(A_new, solve_normal) >= demand"
      ],
      "metadata": {
        "colab": {
          "base_uri": "https://localhost:8080/"
        },
        "id": "aD5Q3mLmSsMu",
        "outputId": "39f469cf-f829-44b9-d4f2-eae54e66f47e"
      },
      "execution_count": null,
      "outputs": [
        {
          "output_type": "execute_result",
          "data": {
            "text/plain": [
              "array([False,  True,  True])"
            ]
          },
          "metadata": {},
          "execution_count": 36
        }
      ]
    },
    {
      "cell_type": "markdown",
      "source": [
        "No unique solution satisfying all equations simulateously. But if we are looking for meeting the minimum demand, then solution using solving 1st and 2nd equation or 1st and 3rd equation would solve our purpose."
      ],
      "metadata": {
        "id": "uJtrqzkEuaYe"
      }
    },
    {
      "cell_type": "markdown",
      "metadata": {
        "id": "bLsK1-zNEP0T"
      },
      "source": [
        "Taking 4th plant into consideration.\n",
        "Let the number of barrels used by factory $B$, $C$ and $D$ are $y$, $z$ and $w$ respectively.\n",
        "\n",
        "Then for demand (5000, 8500, 10000) the system of linear equations will be\n",
        "\n",
        "$$4y + 4z + 4w = 5000$$\n",
        "\n",
        "$$14y + 5z + 5w = 8500$$\n",
        "\n",
        "$$5y + 12z + 12w = 10000$$\n",
        "\n",
        "Solve it using rref form."
      ]
    },
    {
      "cell_type": "code",
      "metadata": {
        "id": "5lqPcpJ9F9xx",
        "colab": {
          "base_uri": "https://localhost:8080/"
        },
        "outputId": "b826caa3-7e41-459c-8b96-5cfc429ec147"
      },
      "source": [
        "# YOUR CODE HERE\n",
        "check_unique_solution(np.matrix([[4,4,4], [14,5,5], [5,12,12]]), np.matrix([5000, 8500, 10000]))\n",
        "Augmented_matrix = sy.Matrix([[4, 4, 4, 5000], [14, 5, 5, 8500], [5, 12, 12, 10000]])\n",
        "Augmented_matrix.rref()"
      ],
      "execution_count": null,
      "outputs": [
        {
          "output_type": "stream",
          "name": "stdout",
          "text": [
            "The system does not have a unique solution\n"
          ]
        },
        {
          "output_type": "execute_result",
          "data": {
            "text/plain": [
              "(Matrix([\n",
              " [1, 0, 0, 0],\n",
              " [0, 1, 1, 0],\n",
              " [0, 0, 0, 1]]),\n",
              " (0, 1, 3))"
            ]
          },
          "metadata": {},
          "execution_count": 21
        }
      ]
    },
    {
      "cell_type": "code",
      "source": [
        "BCD = np.matrix([[4,4,4], [14,5,5], [5,12,12]])\n",
        "np.linalg.matrix_rank(BCD)"
      ],
      "metadata": {
        "colab": {
          "base_uri": "https://localhost:8080/"
        },
        "id": "6k47ZV2S3Ci2",
        "outputId": "b1eb0160-0553-4682-f60d-837c3652cb11"
      },
      "execution_count": null,
      "outputs": [
        {
          "output_type": "execute_result",
          "data": {
            "text/plain": [
              "2"
            ]
          },
          "metadata": {},
          "execution_count": 22
        }
      ]
    },
    {
      "cell_type": "markdown",
      "source": [
        "No exact solution. z+w = 0. But z or w can't be negative. Only possible way is z=w=0. It's equivalent to shutting down plant C and D."
      ],
      "metadata": {
        "id": "931a0oZDsc46"
      }
    },
    {
      "cell_type": "markdown",
      "metadata": {
        "id": "u7SDjgFkP5fj"
      },
      "source": [
        "Now, changing demand to (6600, 5100, 3100) and solving the system of equation using rref form."
      ]
    },
    {
      "cell_type": "code",
      "metadata": {
        "id": "nwSpgbqAGlON",
        "colab": {
          "base_uri": "https://localhost:8080/"
        },
        "outputId": "7db8f65e-9fe6-4bc3-b4f9-58c7b34d24db"
      },
      "source": [
        "# YOUR CODE HERE\n",
        "check_unique_solution(np.matrix([[4,4,4], [14,5,5], [5,12,12]]), np.matrix([6600, 5100, 3100]))\n",
        "Augmented_matrix = sy.Matrix([[4, 4, 4, 6600], [14, 5, 5, 5100], [5, 12, 12, 3100]])\n",
        "Augmented_matrix.rref()"
      ],
      "execution_count": null,
      "outputs": [
        {
          "output_type": "stream",
          "name": "stdout",
          "text": [
            "The system does not have a unique solution\n"
          ]
        },
        {
          "output_type": "execute_result",
          "data": {
            "text/plain": [
              "(Matrix([\n",
              " [1, 0, 0, 0],\n",
              " [0, 1, 1, 0],\n",
              " [0, 0, 0, 1]]),\n",
              " (0, 1, 3))"
            ]
          },
          "metadata": {},
          "execution_count": 41
        }
      ]
    },
    {
      "cell_type": "markdown",
      "source": [
        "No exact solution. z+w = 0. But z or w can't be negative. Only possible way is z=w=0. It's equivalent to shutting down plant C and D. Irrespective of the demand, the system has no exact solution as system is rank deficient."
      ],
      "metadata": {
        "id": "fB_42XYRssBH"
      }
    },
    {
      "cell_type": "markdown",
      "metadata": {
        "id": "fngUPMK_pzh1"
      },
      "source": [
        "### Set rates for Products (1 point)"
      ]
    },
    {
      "cell_type": "markdown",
      "metadata": {
        "id": "8Go0tQYtpzh1"
      },
      "source": [
        "Company wants to set the rates of motor oil, diesel oil, and gasoline. For this purpose they have few suggestions given as follows:\n",
        "\n",
        "* 100, 66, 102 Rupees per gallon,\n",
        "\n",
        "* 104, 64, 100 Rupees per gallon,\n",
        "\n",
        "* 102, 68, 98 Rupees per gallon, and\n",
        "\n",
        "* 96, 68, 100 Rupees per gallon\n",
        "\n",
        "for motor oil, diesel oil, and gasoline respectively.\n",
        "\n",
        "Using matrix multiplication, find the rates which result in maximum total price."
      ]
    },
    {
      "cell_type": "markdown",
      "metadata": {
        "id": "9yRue5zIpzh1"
      },
      "source": [
        "Let $M$ denote the matrix such that rows represents different plants (A, B and C), columns represents different products (motor oil, diesel oil and gasoline) and each value represents production of that product from one barrel of crude oil for that plant.\n",
        "\n",
        "$$M = \\begin{bmatrix}\n",
        "20 & 10 & 5 \\\\\n",
        "4 & 14 & 5  \\\\\n",
        " 4 & 5 & 12  \n",
        "\\end{bmatrix}$$\n",
        "\n",
        "Also, $R$ is a matrix having different rates as its columns.\n",
        "\n",
        "$$R = \\begin{bmatrix}\n",
        "100 & 104 & 102 & 96 \\\\\n",
        "66 & 64 & 68 & 68  \\\\\n",
        "102 & 100 & 98 & 100  \n",
        "\\end{bmatrix}$$"
      ]
    },
    {
      "cell_type": "code",
      "metadata": {
        "id": "Sz5Bef3npzh1",
        "colab": {
          "base_uri": "https://localhost:8080/"
        },
        "outputId": "c1a499eb-8f68-4431-890c-a846d77f0043"
      },
      "source": [
        "# YOUR CODE HERE\n",
        "M = np.array([[20, 10, 5], [4, 14, 5], [4, 5, 12]])\n",
        "R = np.array([[100, 104, 102, 96], [66, 64, 68, 68], [102, 100, 98, 100]])\n",
        "price = np.dot(M, R)\n",
        "price"
      ],
      "execution_count": null,
      "outputs": [
        {
          "output_type": "execute_result",
          "data": {
            "text/plain": [
              "array([[3170, 3220, 3210, 3100],\n",
              "       [1834, 1812, 1850, 1836],\n",
              "       [1954, 1936, 1924, 1924]])"
            ]
          },
          "metadata": {},
          "execution_count": 23
        }
      ]
    },
    {
      "cell_type": "code",
      "source": [
        "total_price = sum(price)\n",
        "max_index = np.argmax(total_price)\n",
        "rate = R[:, max_index]\n",
        "rate"
      ],
      "metadata": {
        "id": "XsGd06v5yI1b",
        "colab": {
          "base_uri": "https://localhost:8080/"
        },
        "outputId": "bed0d360-1e3c-4167-8931-ad90cb85dd5e"
      },
      "execution_count": null,
      "outputs": [
        {
          "output_type": "execute_result",
          "data": {
            "text/plain": [
              "array([102,  68,  98])"
            ]
          },
          "metadata": {},
          "execution_count": 24
        }
      ]
    },
    {
      "cell_type": "markdown",
      "source": [
        "Suggested rate in rupees per gallon for motor oil, diesel oil, and gasoline respectively to get maximum total price is [102, 68, 98]"
      ],
      "metadata": {
        "id": "gcsCPHgK89zv"
      }
    },
    {
      "cell_type": "markdown",
      "metadata": {
        "id": "cga8JrkApzh1"
      },
      "source": [
        "### Marginal Cost (1 point)"
      ]
    },
    {
      "cell_type": "markdown",
      "metadata": {
        "id": "8nN5V5NXpzh2"
      },
      "source": [
        "The total cost $C(x)$ in Rupees, associated with the production of $x$ gallons of gasoline is given by\n",
        "\n",
        "$$C(x) = 0.005 x^3 – 0.02 x^2 + 30x + 5000$$\n",
        "\n",
        "Find the marginal cost when $22$ gallons are produced, where, marginal cost means the instantaneous rate of change of total cost at any level of output."
      ]
    },
    {
      "cell_type": "code",
      "metadata": {
        "id": "rO-HMED3pzh2",
        "colab": {
          "base_uri": "https://localhost:8080/",
          "height": 37
        },
        "outputId": "a6ad8717-fffb-4deb-b866-bed7d9b1294e"
      },
      "source": [
        "# YOUR CODE HERE\n",
        "import sympy as sp\n",
        "x = sp.Symbol(\"x\")\n",
        "C = 0.005 * x**3 - 0.02 * x**2 + 30 * x + 5000\n",
        "C_prime = sp.diff(C, x)\n",
        "marginal_cost = C_prime.subs(x, 22)\n",
        "marginal_cost"
      ],
      "execution_count": null,
      "outputs": [
        {
          "output_type": "execute_result",
          "data": {
            "text/plain": [
              "36.3800000000000"
            ],
            "text/latex": "$\\displaystyle 36.38$"
          },
          "metadata": {},
          "execution_count": 25
        }
      ]
    },
    {
      "cell_type": "markdown",
      "metadata": {
        "id": "qOMlrDEhpzh2"
      },
      "source": [
        "### Marginal Revenue (1 point)"
      ]
    },
    {
      "cell_type": "markdown",
      "metadata": {
        "id": "bfS88lmWpzh2"
      },
      "source": [
        "The total revenue in Rupees received from the sale of $x$ gallons of a motor oil is given by $$R(x) = 3x^2 + 36x + 5.$$\n",
        "\n",
        "Find the marginal revenue, when $x = 28$, where, marginal revenue means the rate of change of total revenue with respect to the number of items sold at an instant."
      ]
    },
    {
      "cell_type": "code",
      "metadata": {
        "id": "rb0h6p49pzh2",
        "colab": {
          "base_uri": "https://localhost:8080/"
        },
        "outputId": "20948ec0-92c0-4caa-e979-576bda07c1ad"
      },
      "source": [
        "# YOUR CODE HERE\n",
        "R = 3 * x**2 + 36 * x + 5\n",
        "R_prime = sp.diff(R, x)\n",
        "marginal_revenue = R_prime.subs(x, 28)\n",
        "print(marginal_revenue)"
      ],
      "execution_count": null,
      "outputs": [
        {
          "output_type": "stream",
          "name": "stdout",
          "text": [
            "204\n"
          ]
        }
      ]
    },
    {
      "cell_type": "markdown",
      "metadata": {
        "id": "ZKb5VuM_pzh2"
      },
      "source": [
        "### Pouring crude oil in tank (1 point)"
      ]
    },
    {
      "cell_type": "markdown",
      "metadata": {
        "id": "TD9zv5jPpzh2"
      },
      "source": [
        "In a cylindrical tank of radius 10 meter, crude oil is being poured at the rate of 314 cubic meter per hour. Then find\n",
        "\n",
        "* the rate at which the height of crude oil is increasing in the tank, and\n",
        "* the height of crude oil in tank after 2 hours."
      ]
    },
    {
      "cell_type": "markdown",
      "source": [
        "V = pi*  r * r * h\n",
        "\n",
        "dV/dt = pi * r * r * dh/dt"
      ],
      "metadata": {
        "id": "Ku-NywNqDBtA"
      }
    },
    {
      "cell_type": "code",
      "metadata": {
        "id": "g6ntcdNypzh2",
        "colab": {
          "base_uri": "https://localhost:8080/"
        },
        "outputId": "ca45d42e-66ca-4e6f-e462-47cd052142db"
      },
      "source": [
        "# YOUR CODE HERE\n",
        "from sympy import symbols, diff\n",
        "r = 10\n",
        "h = symbols('h')\n",
        "V = np.pi * r**2 * h\n",
        "dVdt = diff(V,h) * symbols('dh/dt')  # chain rule\n",
        "dh_dt = (314/diff(V,h)).evalf()\n",
        "print('Rate at which height of crude oil is increasing in the tank: ', dh_dt)"
      ],
      "execution_count": null,
      "outputs": [
        {
          "output_type": "stream",
          "name": "stdout",
          "text": [
            "Rate at which height of crude oil is increasing in the tank:  0.999493042617103\n"
          ]
        }
      ]
    },
    {
      "cell_type": "markdown",
      "source": [
        "The rate at which the height of crude oil is increasing in the tank is 0.9995 meter per hour."
      ],
      "metadata": {
        "id": "QrzRwesGE9cP"
      }
    },
    {
      "cell_type": "code",
      "source": [
        "from sympy import symbols, integrate\n",
        "t = symbols('t')\n",
        "h = integrate(dh_dt, (t,0,2))\n",
        "\n",
        "#t=2\n",
        "#h = dhdt * t\n",
        "print('Height of crude oil in tank after 2 hours: ', h)\n"
      ],
      "metadata": {
        "colab": {
          "base_uri": "https://localhost:8080/"
        },
        "id": "z9jWam-gEsSX",
        "outputId": "68908dff-ecbf-431a-988f-49085436896a"
      },
      "execution_count": null,
      "outputs": [
        {
          "output_type": "stream",
          "name": "stdout",
          "text": [
            "Height of crude oil in tank after 2 hours:  1.99898608523421\n"
          ]
        }
      ]
    },
    {
      "cell_type": "markdown",
      "source": [
        "The height of crude oil in tank after 2 hours is 1.999 meter."
      ],
      "metadata": {
        "id": "beBf3_3UFPWJ"
      }
    }
  ]
}