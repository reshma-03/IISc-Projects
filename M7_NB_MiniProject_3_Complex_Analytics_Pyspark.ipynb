{
  "nbformat": 4,
  "nbformat_minor": 5,
  "metadata": {
    "kernelspec": {
      "display_name": "Python 3",
      "language": "python",
      "name": "python3"
    },
    "language_info": {
      "codemirror_mode": {
        "name": "ipython",
        "version": 3
      },
      "file_extension": ".py",
      "mimetype": "text/x-python",
      "name": "python",
      "nbconvert_exporter": "python",
      "pygments_lexer": "ipython3",
      "version": "3.9.2"
    },
    "colab": {
      "provenance": [],
      "include_colab_link": true
    }
  },
  "cells": [
    {
      "cell_type": "markdown",
      "metadata": {
        "id": "view-in-github",
        "colab_type": "text"
      },
      "source": [
        "<a href=\"https://colab.research.google.com/github/reshma-03/IISc-Projects/blob/main/M7_NB_MiniProject_3_Complex_Analytics_Pyspark.ipynb\" target=\"_parent\"><img src=\"https://colab.research.google.com/assets/colab-badge.svg\" alt=\"Open In Colab\"/></a>"
      ]
    },
    {
      "cell_type": "markdown",
      "metadata": {
        "id": "correct-ecology"
      },
      "source": [
        "# Advanced Certification Program in Computational Data Science\n",
        "## A program by IISc and TalentSprint\n",
        "### Mini-Project: Complex Analytics using Pyspark"
      ],
      "id": "correct-ecology"
    },
    {
      "cell_type": "markdown",
      "metadata": {
        "id": "terminal-strip"
      },
      "source": [
        "## Problem Statement"
      ],
      "id": "terminal-strip"
    },
    {
      "cell_type": "markdown",
      "metadata": {
        "id": "supported-supplement"
      },
      "source": [
        "Perform complex analytics on a network intrusion dataset using Pyspark"
      ],
      "id": "supported-supplement"
    },
    {
      "cell_type": "markdown",
      "metadata": {
        "id": "decimal-replication"
      },
      "source": [
        "## Learning Objectives"
      ],
      "id": "decimal-replication"
    },
    {
      "cell_type": "markdown",
      "metadata": {
        "id": "informational-yacht"
      },
      "source": [
        "At the end of the mini-project, you will be able to :\n",
        "\n",
        "* analyze the data using Pyspark\n",
        "* implement RDD based operations on the data\n",
        "* derive insights from the complex data"
      ],
      "id": "informational-yacht"
    },
    {
      "cell_type": "markdown",
      "metadata": {
        "id": "quality-approval"
      },
      "source": [
        "### Dataset"
      ],
      "id": "quality-approval"
    },
    {
      "cell_type": "markdown",
      "metadata": {
        "id": "biblical-syracuse"
      },
      "source": [
        "The dataset chosen for this mini-project is a [10% subset](https://www.kdd.org/kdd-cup/view/kdd-cup-1999/Data) of the **[KDD Cup 1999 dataset](http://kdd.ics.uci.edu/databases/kddcup99/task.html)** (Computer network intrusion detection). This is the dataset used for the Third International Knowledge Discovery and Data Mining Tools Competition. The competition task was to build a network intrusion detector, a predictive model capable of distinguishing between ``bad`` connections, called intrusions or attacks, and ``good`` normal connections. This database contains a standard set of data to be audited, which includes a wide variety of intrusions simulated in a military network environment."
      ],
      "id": "biblical-syracuse"
    },
    {
      "cell_type": "markdown",
      "metadata": {
        "id": "listed-numbers"
      },
      "source": [
        "## Information"
      ],
      "id": "listed-numbers"
    },
    {
      "cell_type": "markdown",
      "metadata": {
        "id": "skilled-concern"
      },
      "source": [
        "Since 1999, KDD’99 has been the most widely used data set for the evaluation of anomaly detection methods. This data set is prepared by S. J. Stolfo and is built based on the data captured in DARPA’98 IDS evaluation program. DARPA’98 is about 4 gigabytes of compressed raw (binary) tcpdump data of 7 weeks of network traffic, which can be processed into about 5 million connection\n",
        "records, each with about 100 bytes. KDD dataset consists of approximately 4,900,000 single connection vectors each of which contains 41 features and is labeled as either normal or an attack, with exactly one specific attack type. The simulated attacks fall into one of the following four categories:\n",
        "\n",
        "* Denial of Service Attack (DoS): making some computing or memory resources too busy so that they deny legitimate users access to these resources.\n",
        "* User to Root Attack (U2R): unauthorized access from a remote machine according to exploit machine's vulnerabilities.\n",
        "* Remote to Local Attack (R2L): unauthorized access to local super user (root) privileges using system's susceptibility.\n",
        "* Probing Attack: host and port scans as precursors to other attacks. An attacker scans a network to gather information or find known vulnerabilities.\n",
        "\n",
        "KDD’99 features can be classified into three groups:\n",
        "\n",
        "1) Basic features: this category encapsulates all the attributes that can be extracted from a TCP/IP connection. Most of these features leading to an implicit delay in detection.\n",
        "\n",
        "2) Traffic features: this category includes features that are computed with respect to a window interval and is divided into two groups:\n",
        "\n",
        "  * \"same host\" features\n",
        "\n",
        "  * \"same service\" features\n",
        "\n",
        "3) Content features: unlike most of the DoS and Probing attacks, the R2L and U2R attacks don’t have any intrusion frequent sequential patterns. This is because the DoS and Probing attacks involve many connections to some host(s) in a very short period of time, however the R2L and U2R attacks are embedded in the data portions of the packets, and normally involve only a single connection. To detect these kinds of attacks, we need some features to be able to look for suspicious behavior in the data portion, e.g., the number of failed login attempts. These features are called content features."
      ],
      "id": "skilled-concern"
    },
    {
      "cell_type": "markdown",
      "metadata": {
        "id": "BewwTjZaJojg"
      },
      "source": [
        "## Grading = 10 Points"
      ],
      "id": "BewwTjZaJojg"
    },
    {
      "cell_type": "code",
      "metadata": {
        "id": "extreme-working",
        "colab": {
          "base_uri": "https://localhost:8080/"
        },
        "outputId": "bb65dfd5-4db3-4d6f-9baa-e8178485799b"
      },
      "source": [
        "#@title Install packages and Download Dataset\n",
        "!pip -qq install pyspark\n",
        "# Download the data\n",
        "!wget -qq https://cdn.iisc.talentsprint.com/CDS/Datasets/kddcup.data_10_percent.gz\n",
        "# Download feature names\n",
        "!wget -qq https://cdn.iisc.talentsprint.com/CDS/Datasets/kddcup.names\n",
        "print(\"Successfully Installed packages and downloaded datasets!\")"
      ],
      "id": "extreme-working",
      "execution_count": null,
      "outputs": [
        {
          "output_type": "stream",
          "name": "stdout",
          "text": [
            "Successfully Installed packages and downloaded datasets!\n"
          ]
        }
      ]
    },
    {
      "cell_type": "markdown",
      "metadata": {
        "id": "6VwMxTT0KObc"
      },
      "source": [
        "### Create Spark Session and load the data (1 point)"
      ],
      "id": "6VwMxTT0KObc"
    },
    {
      "cell_type": "markdown",
      "metadata": {
        "id": "italic-gross"
      },
      "source": [
        "#### Import required packages"
      ],
      "id": "italic-gross"
    },
    {
      "cell_type": "code",
      "metadata": {
        "id": "published-remove"
      },
      "source": [
        "from pyspark.sql import SparkSession\n",
        "from pyspark.sql import SQLContext\n",
        "from pyspark.sql.functions import *\n",
        "from pyspark.mllib.stat import Statistics\n",
        "import seaborn as sns\n",
        "from matplotlib import pyplot as plt\n",
        "import numpy as np\n",
        "import pandas as pd\n",
        "from operator import add"
      ],
      "id": "published-remove",
      "execution_count": null,
      "outputs": []
    },
    {
      "cell_type": "markdown",
      "metadata": {
        "id": "proved-pressure"
      },
      "source": [
        "#### Create a Spark session\n",
        "\n",
        "A Spark session is a combined entry point of a Spark application, which came into implementation from Spark 2.0 (Instead of having various contexts, everything is encapsulated in a Spark session)"
      ],
      "id": "proved-pressure"
    },
    {
      "cell_type": "code",
      "metadata": {
        "id": "confused-xerox",
        "colab": {
          "base_uri": "https://localhost:8080/",
          "height": 219
        },
        "outputId": "203c4213-246b-4699-bcd8-9abb6a943026"
      },
      "source": [
        "# Start spark session\n",
        "# YOUR CODE HERE\n",
        "spark = SparkSession.builder.appName('ETL').getOrCreate()\n",
        "spark"
      ],
      "id": "confused-xerox",
      "execution_count": null,
      "outputs": [
        {
          "output_type": "execute_result",
          "data": {
            "text/plain": [
              "<pyspark.sql.session.SparkSession at 0x7d007890dc10>"
            ],
            "text/html": [
              "\n",
              "            <div>\n",
              "                <p><b>SparkSession - in-memory</b></p>\n",
              "                \n",
              "        <div>\n",
              "            <p><b>SparkContext</b></p>\n",
              "\n",
              "            <p><a href=\"http://ef398b3127a4:4040\">Spark UI</a></p>\n",
              "\n",
              "            <dl>\n",
              "              <dt>Version</dt>\n",
              "                <dd><code>v3.5.4</code></dd>\n",
              "              <dt>Master</dt>\n",
              "                <dd><code>local[*]</code></dd>\n",
              "              <dt>AppName</dt>\n",
              "                <dd><code>ETL</code></dd>\n",
              "            </dl>\n",
              "        </div>\n",
              "        \n",
              "            </div>\n",
              "        "
            ]
          },
          "metadata": {},
          "execution_count": 4
        }
      ]
    },
    {
      "cell_type": "markdown",
      "metadata": {
        "id": "coastal-communications"
      },
      "source": [
        "#### Creating an RDD from a File\n",
        "\n",
        "The most common way of creating an RDD is to load it from a file. Notice that Spark's textFile can handle compressed files directly."
      ],
      "id": "coastal-communications"
    },
    {
      "cell_type": "code",
      "metadata": {
        "id": "accredited-venture",
        "colab": {
          "base_uri": "https://localhost:8080/"
        },
        "outputId": "a1d92889-3768-41b4-addd-573ee599db64"
      },
      "source": [
        "# YOUR CODE HERE to access sparkContext from sparkSession instance.\n",
        "sc = spark.sparkContext\n",
        "print(f\"SparkContext Application ID: {sc.applicationId}\")"
      ],
      "id": "accredited-venture",
      "execution_count": null,
      "outputs": [
        {
          "output_type": "stream",
          "name": "stdout",
          "text": [
            "SparkContext Application ID: local-1738462897756\n"
          ]
        }
      ]
    },
    {
      "cell_type": "markdown",
      "metadata": {
        "id": "pY0QylZEYTvg"
      },
      "source": [
        "Load the dataset and show the top 10 records\n",
        "\n",
        "Hint: sparkContext.textFile()"
      ],
      "id": "pY0QylZEYTvg"
    },
    {
      "cell_type": "code",
      "metadata": {
        "id": "wound-repository",
        "colab": {
          "base_uri": "https://localhost:8080/"
        },
        "outputId": "a4d9221c-eaaa-4307-ec0c-d61c0083cc92"
      },
      "source": [
        "filePath = \"/content/kddcup.data_10_percent.gz\"\n",
        "# YOUR CODE HERE\n",
        "rdd = sc.textFile(filePath)\n",
        "print(rdd.take(10))"
      ],
      "id": "wound-repository",
      "execution_count": null,
      "outputs": [
        {
          "output_type": "stream",
          "name": "stdout",
          "text": [
            "['0,tcp,http,SF,181,5450,0,0,0,0,0,1,0,0,0,0,0,0,0,0,0,0,8,8,0.00,0.00,0.00,0.00,1.00,0.00,0.00,9,9,1.00,0.00,0.11,0.00,0.00,0.00,0.00,0.00,normal.', '0,tcp,http,SF,239,486,0,0,0,0,0,1,0,0,0,0,0,0,0,0,0,0,8,8,0.00,0.00,0.00,0.00,1.00,0.00,0.00,19,19,1.00,0.00,0.05,0.00,0.00,0.00,0.00,0.00,normal.', '0,tcp,http,SF,235,1337,0,0,0,0,0,1,0,0,0,0,0,0,0,0,0,0,8,8,0.00,0.00,0.00,0.00,1.00,0.00,0.00,29,29,1.00,0.00,0.03,0.00,0.00,0.00,0.00,0.00,normal.', '0,tcp,http,SF,219,1337,0,0,0,0,0,1,0,0,0,0,0,0,0,0,0,0,6,6,0.00,0.00,0.00,0.00,1.00,0.00,0.00,39,39,1.00,0.00,0.03,0.00,0.00,0.00,0.00,0.00,normal.', '0,tcp,http,SF,217,2032,0,0,0,0,0,1,0,0,0,0,0,0,0,0,0,0,6,6,0.00,0.00,0.00,0.00,1.00,0.00,0.00,49,49,1.00,0.00,0.02,0.00,0.00,0.00,0.00,0.00,normal.', '0,tcp,http,SF,217,2032,0,0,0,0,0,1,0,0,0,0,0,0,0,0,0,0,6,6,0.00,0.00,0.00,0.00,1.00,0.00,0.00,59,59,1.00,0.00,0.02,0.00,0.00,0.00,0.00,0.00,normal.', '0,tcp,http,SF,212,1940,0,0,0,0,0,1,0,0,0,0,0,0,0,0,0,0,1,2,0.00,0.00,0.00,0.00,1.00,0.00,1.00,1,69,1.00,0.00,1.00,0.04,0.00,0.00,0.00,0.00,normal.', '0,tcp,http,SF,159,4087,0,0,0,0,0,1,0,0,0,0,0,0,0,0,0,0,5,5,0.00,0.00,0.00,0.00,1.00,0.00,0.00,11,79,1.00,0.00,0.09,0.04,0.00,0.00,0.00,0.00,normal.', '0,tcp,http,SF,210,151,0,0,0,0,0,1,0,0,0,0,0,0,0,0,0,0,8,8,0.00,0.00,0.00,0.00,1.00,0.00,0.00,8,89,1.00,0.00,0.12,0.04,0.00,0.00,0.00,0.00,normal.', '0,tcp,http,SF,212,786,0,0,0,1,0,1,0,0,0,0,0,0,0,0,0,0,8,8,0.00,0.00,0.00,0.00,1.00,0.00,0.00,8,99,1.00,0.00,0.12,0.05,0.00,0.00,0.00,0.00,normal.']\n"
          ]
        }
      ]
    },
    {
      "cell_type": "markdown",
      "metadata": {
        "id": "hollow-offense"
      },
      "source": [
        "### RDD Basic Operations (4 points)"
      ],
      "id": "hollow-offense"
    },
    {
      "cell_type": "markdown",
      "metadata": {
        "id": "varying-amateur"
      },
      "source": [
        "#### Convert the data to CSV format (list of elements).\n",
        "\n",
        "To create a Dataframe using the RDD file, convert each row into a list by splitting with a comma (,)\n",
        "\n",
        "Hint: `map()` and `split()`"
      ],
      "id": "varying-amateur"
    },
    {
      "cell_type": "code",
      "metadata": {
        "id": "designed-malta",
        "colab": {
          "base_uri": "https://localhost:8080/"
        },
        "outputId": "e2a63518-e956-4be2-82f2-968fa91137cb"
      },
      "source": [
        "# YOUR CODE HERE\n",
        "df = spark.createDataFrame(rdd.map(lambda x: x.split(\",\")))\n",
        "df.show(5)"
      ],
      "id": "designed-malta",
      "execution_count": null,
      "outputs": [
        {
          "output_type": "stream",
          "name": "stdout",
          "text": [
            "+---+---+----+---+---+----+---+---+---+---+---+---+---+---+---+---+---+---+---+---+---+---+---+---+----+----+----+----+----+----+----+---+---+----+----+----+----+----+----+----+----+-------+\n",
            "| _1| _2|  _3| _4| _5|  _6| _7| _8| _9|_10|_11|_12|_13|_14|_15|_16|_17|_18|_19|_20|_21|_22|_23|_24| _25| _26| _27| _28| _29| _30| _31|_32|_33| _34| _35| _36| _37| _38| _39| _40| _41|    _42|\n",
            "+---+---+----+---+---+----+---+---+---+---+---+---+---+---+---+---+---+---+---+---+---+---+---+---+----+----+----+----+----+----+----+---+---+----+----+----+----+----+----+----+----+-------+\n",
            "|  0|tcp|http| SF|181|5450|  0|  0|  0|  0|  0|  1|  0|  0|  0|  0|  0|  0|  0|  0|  0|  0|  8|  8|0.00|0.00|0.00|0.00|1.00|0.00|0.00|  9|  9|1.00|0.00|0.11|0.00|0.00|0.00|0.00|0.00|normal.|\n",
            "|  0|tcp|http| SF|239| 486|  0|  0|  0|  0|  0|  1|  0|  0|  0|  0|  0|  0|  0|  0|  0|  0|  8|  8|0.00|0.00|0.00|0.00|1.00|0.00|0.00| 19| 19|1.00|0.00|0.05|0.00|0.00|0.00|0.00|0.00|normal.|\n",
            "|  0|tcp|http| SF|235|1337|  0|  0|  0|  0|  0|  1|  0|  0|  0|  0|  0|  0|  0|  0|  0|  0|  8|  8|0.00|0.00|0.00|0.00|1.00|0.00|0.00| 29| 29|1.00|0.00|0.03|0.00|0.00|0.00|0.00|0.00|normal.|\n",
            "|  0|tcp|http| SF|219|1337|  0|  0|  0|  0|  0|  1|  0|  0|  0|  0|  0|  0|  0|  0|  0|  0|  6|  6|0.00|0.00|0.00|0.00|1.00|0.00|0.00| 39| 39|1.00|0.00|0.03|0.00|0.00|0.00|0.00|0.00|normal.|\n",
            "|  0|tcp|http| SF|217|2032|  0|  0|  0|  0|  0|  1|  0|  0|  0|  0|  0|  0|  0|  0|  0|  0|  6|  6|0.00|0.00|0.00|0.00|1.00|0.00|0.00| 49| 49|1.00|0.00|0.02|0.00|0.00|0.00|0.00|0.00|normal.|\n",
            "+---+---+----+---+---+----+---+---+---+---+---+---+---+---+---+---+---+---+---+---+---+---+---+---+----+----+----+----+----+----+----+---+---+----+----+----+----+----+----+----+----+-------+\n",
            "only showing top 5 rows\n",
            "\n"
          ]
        }
      ]
    },
    {
      "cell_type": "markdown",
      "metadata": {
        "id": "restricted-bonus"
      },
      "source": [
        "Count how many interactions are normal and attacked in the dataset.\n",
        "\n",
        "Hint: apply `filter` on each row, except the rows with 'normal.', all the remaining values are attacked."
      ],
      "id": "restricted-bonus"
    },
    {
      "cell_type": "code",
      "metadata": {
        "id": "architectural-appraisal",
        "colab": {
          "base_uri": "https://localhost:8080/"
        },
        "outputId": "b2507880-a2d5-4b49-ac37-cd3ff8255db9"
      },
      "source": [
        "# YOUR CODE HERE\n",
        "normal = df.filter(col(\"_42\") == \"normal.\")\n",
        "attacked = df.filter(col(\"_42\") != \"normal.\")\n",
        "print(\"Normal interactions: \", normal.count())\n",
        "print(\"Attacked interactions: \", attacked.count())"
      ],
      "id": "architectural-appraisal",
      "execution_count": null,
      "outputs": [
        {
          "output_type": "stream",
          "name": "stdout",
          "text": [
            "Normal interactions:  97278\n",
            "Attacked interactions:  396743\n"
          ]
        }
      ]
    },
    {
      "cell_type": "markdown",
      "metadata": {
        "id": "flying-apartment"
      },
      "source": [
        "#### Protocol and Service combinations using Cartesian product\n",
        "\n",
        "We can compute the Cartesian product between two RDDs by using the Cartesian transformation. It returns all possible pairs of elements between two RDDs. In our case, we will use it to generate all the possible combinations between Service and Protocol in our network interactions.\n",
        "\n",
        "First of all, isolate each collection of values in two separate RDDs. For that use `distinct` on the CSV-parsed dataset. From the dataset description, we know that protocol is the second column and service is the third."
      ],
      "id": "flying-apartment"
    },
    {
      "cell_type": "code",
      "metadata": {
        "id": "automatic-turning",
        "colab": {
          "base_uri": "https://localhost:8080/"
        },
        "outputId": "adb99881-12a7-405f-a64d-199a167bf86d"
      },
      "source": [
        "# YOUR CODE HERE\n",
        "protocol_rdd = df.select(\"_2\").distinct().rdd.map(lambda row: row[\"_2\"])\n",
        "service_rdd = df.select(\"_3\").distinct().rdd.map(lambda row: row[\"_3\"])\n",
        "print(protocol_rdd)\n",
        "print(service_rdd)"
      ],
      "id": "automatic-turning",
      "execution_count": null,
      "outputs": [
        {
          "output_type": "stream",
          "name": "stdout",
          "text": [
            "PythonRDD[34] at RDD at PythonRDD.scala:53\n",
            "PythonRDD[35] at RDD at PythonRDD.scala:53\n"
          ]
        }
      ]
    },
    {
      "cell_type": "markdown",
      "metadata": {
        "id": "alleged-ranking"
      },
      "source": [
        "Now let's do the Cartesian product\n",
        "\n",
        "Hint: [Cartesian](https://spark.apache.org/docs/latest/api/python/reference/api/pyspark.RDD.cartesian.html#:~:text=Return%20the%20Cartesian%20product%20of,and%20b%20is%20in%20other%20.)"
      ],
      "id": "alleged-ranking"
    },
    {
      "cell_type": "code",
      "source": [
        "print(type(protocol_rdd))"
      ],
      "metadata": {
        "colab": {
          "base_uri": "https://localhost:8080/"
        },
        "id": "PUCUy_UEYZ5U",
        "outputId": "1dff3805-6219-4038-8aaa-5cb3daa1bed9"
      },
      "id": "PUCUy_UEYZ5U",
      "execution_count": null,
      "outputs": [
        {
          "output_type": "stream",
          "name": "stdout",
          "text": [
            "<class 'pyspark.rdd.PipelinedRDD'>\n"
          ]
        }
      ]
    },
    {
      "cell_type": "code",
      "metadata": {
        "id": "focused-circulation",
        "colab": {
          "base_uri": "https://localhost:8080/"
        },
        "outputId": "12f655f9-5ff4-4ef2-b5c3-b7b5cceaf3c9"
      },
      "source": [
        "# YOUR CODE HERE\n",
        "product = protocol_rdd.cartesian(service_rdd).collect()\n",
        "print(product)"
      ],
      "id": "focused-circulation",
      "execution_count": null,
      "outputs": [
        {
          "output_type": "stream",
          "name": "stdout",
          "text": [
            "[('tcp', 'telnet'), ('tcp', 'ftp'), ('tcp', 'auth'), ('tcp', 'iso_tsap'), ('tcp', 'systat'), ('tcp', 'name'), ('tcp', 'sql_net'), ('tcp', 'ntp_u'), ('tcp', 'X11'), ('tcp', 'pop_3'), ('tcp', 'ldap'), ('tcp', 'discard'), ('tcp', 'tftp_u'), ('tcp', 'Z39_50'), ('tcp', 'daytime'), ('tcp', 'domain_u'), ('tcp', 'login'), ('tcp', 'smtp'), ('tcp', 'mtp'), ('tcp', 'domain'), ('tcp', 'http'), ('tcp', 'link'), ('tcp', 'courier'), ('tcp', 'kshell'), ('tcp', 'pop_2'), ('tcp', 'other'), ('tcp', 'exec'), ('tcp', 'nnsp'), ('tcp', 'efs'), ('tcp', 'IRC'), ('tcp', 'pm_dump'), ('tcp', 'private'), ('tcp', 'urh_i'), ('tcp', 'ftp_data'), ('tcp', 'whois'), ('tcp', 'nntp'), ('tcp', 'netbios_ns'), ('tcp', 'klogin'), ('tcp', 'shell'), ('tcp', 'red_i'), ('tcp', 'tim_i'), ('tcp', 'uucp_path'), ('tcp', 'eco_i'), ('tcp', 'ctf'), ('tcp', 'vmnet'), ('tcp', 'supdup'), ('tcp', 'finger'), ('tcp', 'printer'), ('tcp', 'netbios_dgm'), ('tcp', 'urp_i'), ('tcp', 'ecr_i'), ('tcp', 'time'), ('tcp', 'netbios_ssn'), ('tcp', 'hostnames'), ('tcp', 'csnet_ns'), ('tcp', 'sunrpc'), ('tcp', 'http_443'), ('tcp', 'echo'), ('tcp', 'netstat'), ('tcp', 'remote_job'), ('tcp', 'gopher'), ('tcp', 'imap4'), ('tcp', 'uucp'), ('tcp', 'ssh'), ('tcp', 'rje'), ('tcp', 'bgp'), ('udp', 'telnet'), ('icmp', 'telnet'), ('udp', 'ftp'), ('udp', 'auth'), ('icmp', 'ftp'), ('icmp', 'auth'), ('udp', 'iso_tsap'), ('udp', 'systat'), ('udp', 'name'), ('udp', 'sql_net'), ('icmp', 'iso_tsap'), ('icmp', 'systat'), ('icmp', 'name'), ('icmp', 'sql_net'), ('udp', 'ntp_u'), ('udp', 'X11'), ('udp', 'pop_3'), ('udp', 'ldap'), ('udp', 'discard'), ('udp', 'tftp_u'), ('udp', 'Z39_50'), ('udp', 'daytime'), ('icmp', 'ntp_u'), ('icmp', 'X11'), ('icmp', 'pop_3'), ('icmp', 'ldap'), ('icmp', 'discard'), ('icmp', 'tftp_u'), ('icmp', 'Z39_50'), ('icmp', 'daytime'), ('udp', 'domain_u'), ('udp', 'login'), ('udp', 'smtp'), ('udp', 'mtp'), ('udp', 'domain'), ('udp', 'http'), ('udp', 'link'), ('udp', 'courier'), ('udp', 'kshell'), ('udp', 'pop_2'), ('udp', 'other'), ('udp', 'exec'), ('udp', 'nnsp'), ('udp', 'efs'), ('udp', 'IRC'), ('udp', 'pm_dump'), ('icmp', 'domain_u'), ('icmp', 'login'), ('icmp', 'smtp'), ('icmp', 'mtp'), ('icmp', 'domain'), ('icmp', 'http'), ('icmp', 'link'), ('icmp', 'courier'), ('icmp', 'kshell'), ('icmp', 'pop_2'), ('icmp', 'other'), ('icmp', 'exec'), ('icmp', 'nnsp'), ('icmp', 'efs'), ('icmp', 'IRC'), ('icmp', 'pm_dump'), ('udp', 'private'), ('udp', 'urh_i'), ('udp', 'ftp_data'), ('udp', 'whois'), ('udp', 'nntp'), ('udp', 'netbios_ns'), ('udp', 'klogin'), ('udp', 'shell'), ('udp', 'red_i'), ('udp', 'tim_i'), ('udp', 'uucp_path'), ('udp', 'eco_i'), ('udp', 'ctf'), ('udp', 'vmnet'), ('udp', 'supdup'), ('udp', 'finger'), ('udp', 'printer'), ('udp', 'netbios_dgm'), ('udp', 'urp_i'), ('udp', 'ecr_i'), ('udp', 'time'), ('udp', 'netbios_ssn'), ('udp', 'hostnames'), ('udp', 'csnet_ns'), ('udp', 'sunrpc'), ('udp', 'http_443'), ('udp', 'echo'), ('udp', 'netstat'), ('udp', 'remote_job'), ('udp', 'gopher'), ('udp', 'imap4'), ('udp', 'uucp'), ('icmp', 'private'), ('icmp', 'urh_i'), ('icmp', 'ftp_data'), ('icmp', 'whois'), ('icmp', 'nntp'), ('icmp', 'netbios_ns'), ('icmp', 'klogin'), ('icmp', 'shell'), ('icmp', 'red_i'), ('icmp', 'tim_i'), ('icmp', 'uucp_path'), ('icmp', 'eco_i'), ('icmp', 'ctf'), ('icmp', 'vmnet'), ('icmp', 'supdup'), ('icmp', 'finger'), ('icmp', 'printer'), ('icmp', 'netbios_dgm'), ('icmp', 'urp_i'), ('icmp', 'ecr_i'), ('icmp', 'time'), ('icmp', 'netbios_ssn'), ('icmp', 'hostnames'), ('icmp', 'csnet_ns'), ('icmp', 'sunrpc'), ('icmp', 'http_443'), ('icmp', 'echo'), ('icmp', 'netstat'), ('icmp', 'remote_job'), ('icmp', 'gopher'), ('icmp', 'imap4'), ('icmp', 'uucp'), ('udp', 'ssh'), ('udp', 'rje'), ('udp', 'bgp'), ('icmp', 'ssh'), ('icmp', 'rje'), ('icmp', 'bgp')]\n"
          ]
        }
      ]
    },
    {
      "cell_type": "markdown",
      "metadata": {
        "id": "boolean-representation"
      },
      "source": [
        "#### Inspecting interaction duration\n",
        "\n",
        "select the total duration of interactions for normal and attack intrusion types.\n",
        "* Use the above filtered normal and attacked data and convert the duration column to integer type using `map()`\n",
        "* get the sum of duration by applying `reduce` on both the data using add operator\n",
        "* find the mean of duration by dividing the sum with count\n",
        "\n",
        "Hint: [reduce()](https://spark.apache.org/docs/latest/api/python/reference/api/pyspark.RDD.reduce.html)"
      ],
      "id": "boolean-representation"
    },
    {
      "cell_type": "code",
      "metadata": {
        "id": "requested-amateur",
        "colab": {
          "base_uri": "https://localhost:8080/"
        },
        "outputId": "026a1314-8ee8-4a04-f36c-2090c02bf4ef"
      },
      "source": [
        "# YOUR CODE HERE\n",
        "filter_normal_int = normal.select(\"_1\").rdd.map(lambda row: int(row[\"_1\"]))\n",
        "filter_attacked_int = attacked.select(\"_1\").rdd.map(lambda row: int(row[\"_1\"]))\n",
        "print(filter_normal_int)\n",
        "print(filter_attacked_int)"
      ],
      "id": "requested-amateur",
      "execution_count": null,
      "outputs": [
        {
          "output_type": "stream",
          "name": "stdout",
          "text": [
            "PythonRDD[45] at RDD at PythonRDD.scala:53\n",
            "PythonRDD[46] at RDD at PythonRDD.scala:53\n"
          ]
        }
      ]
    },
    {
      "cell_type": "code",
      "metadata": {
        "id": "bulgarian-confidentiality",
        "colab": {
          "base_uri": "https://localhost:8080/"
        },
        "outputId": "b10fc452-b5a9-453c-cc82-3725829120c9"
      },
      "source": [
        "# YOUR CODE HERE\n",
        "normal_sum = filter_normal_int.reduce(add)\n",
        "attacked_sum = filter_attacked_int.reduce(add)\n",
        "print(normal_sum)\n",
        "print(attacked_sum)"
      ],
      "id": "bulgarian-confidentiality",
      "execution_count": null,
      "outputs": [
        {
          "output_type": "stream",
          "name": "stdout",
          "text": [
            "21075991\n",
            "2626792\n"
          ]
        }
      ]
    },
    {
      "cell_type": "code",
      "metadata": {
        "id": "directed-officer",
        "colab": {
          "base_uri": "https://localhost:8080/"
        },
        "outputId": "ace200a7-8a20-4f92-ce46-ad3608a9ac53"
      },
      "source": [
        "# YOUR CODE HERE\n",
        "normal_mean = normal_sum / normal.count()\n",
        "attacked_mean = attacked_sum / attacked.count()\n",
        "print(normal_mean)\n",
        "print(attacked_mean)"
      ],
      "id": "directed-officer",
      "execution_count": null,
      "outputs": [
        {
          "output_type": "stream",
          "name": "stdout",
          "text": [
            "216.65732231336992\n",
            "6.620890601724542\n"
          ]
        }
      ]
    },
    {
      "cell_type": "markdown",
      "metadata": {
        "id": "tested-auction"
      },
      "source": [
        "#### Data aggregation with key/value pair RDDs\n",
        "\n",
        "We can use all the transformations and actions available for normal RDDs with key/value pair RDDs. We just need to make the functions work with pair elements.\n",
        "\n",
        "* create a key/value pair of intrusion type and duration\n",
        "* calculate the total duration of each intrusion type using `reduceByKey()`"
      ],
      "id": "tested-auction"
    },
    {
      "cell_type": "code",
      "metadata": {
        "id": "chicken-logging",
        "colab": {
          "base_uri": "https://localhost:8080/"
        },
        "outputId": "ca6fb33b-1ddf-469d-eafa-69299c90dacb"
      },
      "source": [
        "# YOUR CODE HERE\n",
        "key_value_rdd = df.select(\"_42\", \"_1\").rdd.map(lambda row: (row[\"_42\"], int(row[\"_1\"])))\n",
        "print(key_value_rdd)\n",
        "total_duration = key_value_rdd.reduceByKey(lambda x, y: x + y)\n",
        "print(total_duration)\n",
        "total_duration.collect()\n",
        "total_duration.take(10)\n"
      ],
      "id": "chicken-logging",
      "execution_count": null,
      "outputs": [
        {
          "output_type": "stream",
          "name": "stdout",
          "text": [
            "PythonRDD[63] at RDD at PythonRDD.scala:53\n",
            "PythonRDD[68] at RDD at PythonRDD.scala:53\n"
          ]
        },
        {
          "output_type": "execute_result",
          "data": {
            "text/plain": [
              "[('normal.', 21075991),\n",
              " ('buffer_overflow.', 2751),\n",
              " ('loadmodule.', 326),\n",
              " ('perl.', 124),\n",
              " ('neptune.', 0),\n",
              " ('smurf.', 0),\n",
              " ('guess_passwd.', 144),\n",
              " ('pod.', 0),\n",
              " ('teardrop.', 0),\n",
              " ('portsweep.', 1991911)]"
            ]
          },
          "metadata": {},
          "execution_count": 15
        }
      ]
    },
    {
      "cell_type": "markdown",
      "metadata": {
        "id": "balanced-table"
      },
      "source": [
        "### Create a DataFrame with the header as features (2 points)"
      ],
      "id": "balanced-table"
    },
    {
      "cell_type": "markdown",
      "metadata": {
        "id": "Y-S3RgOYdghm"
      },
      "source": [
        "[link text](https://)* Read the features (*kddcup.names*) and preprocess.\n",
        "\n",
        "    Hints:\n",
        "    - Each feature description appears row-wise in *kddcup.names*\n",
        "    - The first row consists of distinct values of intrusion_types\n",
        "    - Add or move the *intrusion_types* column name to the last, to align with the data.\n",
        "    - Each feature is represented as *feature_name*: *type*, remove *type* after colon (:)"
      ],
      "id": "Y-S3RgOYdghm"
    },
    {
      "cell_type": "code",
      "metadata": {
        "id": "stylish-chance"
      },
      "source": [
        "# YOUR CODE HERE\n",
        "with open(\"/content/kddcup.names\") as f:\n",
        "  lines = f.readlines()\n"
      ],
      "id": "stylish-chance",
      "execution_count": null,
      "outputs": []
    },
    {
      "cell_type": "markdown",
      "metadata": {
        "id": "XA-HDFEIdlwd"
      },
      "source": [
        "* Create a dataframe with the data and headers as preprocessed feature names"
      ],
      "id": "XA-HDFEIdlwd"
    },
    {
      "cell_type": "code",
      "metadata": {
        "id": "MJh_-plCdlZ1",
        "colab": {
          "base_uri": "https://localhost:8080/"
        },
        "outputId": "47a42e1e-b7a7-4cb1-f6f0-1dcc81ff0102"
      },
      "source": [
        "# YOUR CODE HERE\n",
        "#intrusion = lines[0].strip().split(\",\")\n",
        "intrusion = [line.strip().split(',')[-1] for line in lines]\n",
        "print(intrusion)\n",
        "features = [line.strip().split(\":\")[0] for line in lines[1:]]\n",
        "print(features)\n",
        "features.append(\"intrusion_types\")\n",
        "print(features)\n",
        "data_file = '/content/kddcup.data_10_percent.gz'\n",
        "df = spark.read.csv(data_file, sep=\",\", inferSchema=True, header=False)\n",
        "df = df.toDF(*features)\n",
        "df.show(5)"
      ],
      "id": "MJh_-plCdlZ1",
      "execution_count": null,
      "outputs": [
        {
          "output_type": "stream",
          "name": "stdout",
          "text": [
            "['warezmaster.', 'duration: continuous.', 'protocol_type: symbolic.', 'service: symbolic.', 'flag: symbolic.', 'src_bytes: continuous.', 'dst_bytes: continuous.', 'land: symbolic.', 'wrong_fragment: continuous.', 'urgent: continuous.', 'hot: continuous.', 'num_failed_logins: continuous.', 'logged_in: symbolic.', 'num_compromised: continuous.', 'root_shell: continuous.', 'su_attempted: continuous.', 'num_root: continuous.', 'num_file_creations: continuous.', 'num_shells: continuous.', 'num_access_files: continuous.', 'num_outbound_cmds: continuous.', 'is_host_login: symbolic.', 'is_guest_login: symbolic.', 'count: continuous.', 'srv_count: continuous.', 'serror_rate: continuous.', 'srv_serror_rate: continuous.', 'rerror_rate: continuous.', 'srv_rerror_rate: continuous.', 'same_srv_rate: continuous.', 'diff_srv_rate: continuous.', 'srv_diff_host_rate: continuous.', 'dst_host_count: continuous.', 'dst_host_srv_count: continuous.', 'dst_host_same_srv_rate: continuous.', 'dst_host_diff_srv_rate: continuous.', 'dst_host_same_src_port_rate: continuous.', 'dst_host_srv_diff_host_rate: continuous.', 'dst_host_serror_rate: continuous.', 'dst_host_srv_serror_rate: continuous.', 'dst_host_rerror_rate: continuous.', 'dst_host_srv_rerror_rate: continuous.']\n",
            "['duration', 'protocol_type', 'service', 'flag', 'src_bytes', 'dst_bytes', 'land', 'wrong_fragment', 'urgent', 'hot', 'num_failed_logins', 'logged_in', 'num_compromised', 'root_shell', 'su_attempted', 'num_root', 'num_file_creations', 'num_shells', 'num_access_files', 'num_outbound_cmds', 'is_host_login', 'is_guest_login', 'count', 'srv_count', 'serror_rate', 'srv_serror_rate', 'rerror_rate', 'srv_rerror_rate', 'same_srv_rate', 'diff_srv_rate', 'srv_diff_host_rate', 'dst_host_count', 'dst_host_srv_count', 'dst_host_same_srv_rate', 'dst_host_diff_srv_rate', 'dst_host_same_src_port_rate', 'dst_host_srv_diff_host_rate', 'dst_host_serror_rate', 'dst_host_srv_serror_rate', 'dst_host_rerror_rate', 'dst_host_srv_rerror_rate']\n",
            "['duration', 'protocol_type', 'service', 'flag', 'src_bytes', 'dst_bytes', 'land', 'wrong_fragment', 'urgent', 'hot', 'num_failed_logins', 'logged_in', 'num_compromised', 'root_shell', 'su_attempted', 'num_root', 'num_file_creations', 'num_shells', 'num_access_files', 'num_outbound_cmds', 'is_host_login', 'is_guest_login', 'count', 'srv_count', 'serror_rate', 'srv_serror_rate', 'rerror_rate', 'srv_rerror_rate', 'same_srv_rate', 'diff_srv_rate', 'srv_diff_host_rate', 'dst_host_count', 'dst_host_srv_count', 'dst_host_same_srv_rate', 'dst_host_diff_srv_rate', 'dst_host_same_src_port_rate', 'dst_host_srv_diff_host_rate', 'dst_host_serror_rate', 'dst_host_srv_serror_rate', 'dst_host_rerror_rate', 'dst_host_srv_rerror_rate', 'intrusion_types']\n",
            "+--------+-------------+-------+----+---------+---------+----+--------------+------+---+-----------------+---------+---------------+----------+------------+--------+------------------+----------+----------------+-----------------+-------------+--------------+-----+---------+-----------+---------------+-----------+---------------+-------------+-------------+------------------+--------------+------------------+----------------------+----------------------+---------------------------+---------------------------+--------------------+------------------------+--------------------+------------------------+---------------+\n",
            "|duration|protocol_type|service|flag|src_bytes|dst_bytes|land|wrong_fragment|urgent|hot|num_failed_logins|logged_in|num_compromised|root_shell|su_attempted|num_root|num_file_creations|num_shells|num_access_files|num_outbound_cmds|is_host_login|is_guest_login|count|srv_count|serror_rate|srv_serror_rate|rerror_rate|srv_rerror_rate|same_srv_rate|diff_srv_rate|srv_diff_host_rate|dst_host_count|dst_host_srv_count|dst_host_same_srv_rate|dst_host_diff_srv_rate|dst_host_same_src_port_rate|dst_host_srv_diff_host_rate|dst_host_serror_rate|dst_host_srv_serror_rate|dst_host_rerror_rate|dst_host_srv_rerror_rate|intrusion_types|\n",
            "+--------+-------------+-------+----+---------+---------+----+--------------+------+---+-----------------+---------+---------------+----------+------------+--------+------------------+----------+----------------+-----------------+-------------+--------------+-----+---------+-----------+---------------+-----------+---------------+-------------+-------------+------------------+--------------+------------------+----------------------+----------------------+---------------------------+---------------------------+--------------------+------------------------+--------------------+------------------------+---------------+\n",
            "|       0|          tcp|   http|  SF|      181|     5450|   0|             0|     0|  0|                0|        1|              0|         0|           0|       0|                 0|         0|               0|                0|            0|             0|    8|        8|        0.0|            0.0|        0.0|            0.0|          1.0|          0.0|               0.0|             9|                 9|                   1.0|                   0.0|                       0.11|                        0.0|                 0.0|                     0.0|                 0.0|                     0.0|        normal.|\n",
            "|       0|          tcp|   http|  SF|      239|      486|   0|             0|     0|  0|                0|        1|              0|         0|           0|       0|                 0|         0|               0|                0|            0|             0|    8|        8|        0.0|            0.0|        0.0|            0.0|          1.0|          0.0|               0.0|            19|                19|                   1.0|                   0.0|                       0.05|                        0.0|                 0.0|                     0.0|                 0.0|                     0.0|        normal.|\n",
            "|       0|          tcp|   http|  SF|      235|     1337|   0|             0|     0|  0|                0|        1|              0|         0|           0|       0|                 0|         0|               0|                0|            0|             0|    8|        8|        0.0|            0.0|        0.0|            0.0|          1.0|          0.0|               0.0|            29|                29|                   1.0|                   0.0|                       0.03|                        0.0|                 0.0|                     0.0|                 0.0|                     0.0|        normal.|\n",
            "|       0|          tcp|   http|  SF|      219|     1337|   0|             0|     0|  0|                0|        1|              0|         0|           0|       0|                 0|         0|               0|                0|            0|             0|    6|        6|        0.0|            0.0|        0.0|            0.0|          1.0|          0.0|               0.0|            39|                39|                   1.0|                   0.0|                       0.03|                        0.0|                 0.0|                     0.0|                 0.0|                     0.0|        normal.|\n",
            "|       0|          tcp|   http|  SF|      217|     2032|   0|             0|     0|  0|                0|        1|              0|         0|           0|       0|                 0|         0|               0|                0|            0|             0|    6|        6|        0.0|            0.0|        0.0|            0.0|          1.0|          0.0|               0.0|            49|                49|                   1.0|                   0.0|                       0.02|                        0.0|                 0.0|                     0.0|                 0.0|                     0.0|        normal.|\n",
            "+--------+-------------+-------+----+---------+---------+----+--------------+------+---+-----------------+---------+---------------+----------+------------+--------+------------------+----------+----------------+-----------------+-------------+--------------+-----+---------+-----------+---------------+-----------+---------------+-------------+-------------+------------------+--------------+------------------+----------------------+----------------------+---------------------------+---------------------------+--------------------+------------------------+--------------------+------------------------+---------------+\n",
            "only showing top 5 rows\n",
            "\n"
          ]
        }
      ]
    },
    {
      "cell_type": "markdown",
      "metadata": {
        "id": "numerous-montreal"
      },
      "source": [
        "#### What is the count of each protocol type?\n",
        "\n",
        "Hint: apply `groupby` on protocol_type and count the records"
      ],
      "id": "numerous-montreal"
    },
    {
      "cell_type": "code",
      "metadata": {
        "id": "unusual-arizona",
        "colab": {
          "base_uri": "https://localhost:8080/"
        },
        "outputId": "a2ad8190-2d6e-4039-eba1-bc23ef923e84"
      },
      "source": [
        "# YOUR CODE HERE\n",
        "df.groupBy(\"protocol_type\").count().show()\n",
        "print(df.count())"
      ],
      "id": "unusual-arizona",
      "execution_count": null,
      "outputs": [
        {
          "output_type": "stream",
          "name": "stdout",
          "text": [
            "+-------------+------+\n",
            "|protocol_type| count|\n",
            "+-------------+------+\n",
            "|          tcp|190065|\n",
            "|          udp| 20354|\n",
            "|         icmp|283602|\n",
            "+-------------+------+\n",
            "\n",
            "494021\n"
          ]
        }
      ]
    },
    {
      "cell_type": "markdown",
      "metadata": {
        "id": "liable-edgar"
      },
      "source": [
        "#### Register the DataFrame as a temporary table and extract the data using queries\n",
        "\n",
        "Hint: [registerTempTable](https://spark.apache.org/docs/latest/api/python/reference/pyspark.sql/api/pyspark.sql.DataFrame.registerTempTable.html)"
      ],
      "id": "liable-edgar"
    },
    {
      "cell_type": "code",
      "metadata": {
        "id": "_NA8e0kTefVr",
        "colab": {
          "base_uri": "https://localhost:8080/"
        },
        "outputId": "b010758b-aa10-437a-bf02-c3399c56068a"
      },
      "source": [
        "# YOUR CODE HERE\n",
        "df.registerTempTable(\"interactions\")\n"
      ],
      "id": "_NA8e0kTefVr",
      "execution_count": null,
      "outputs": [
        {
          "output_type": "stream",
          "name": "stderr",
          "text": [
            "/usr/local/lib/python3.11/dist-packages/pyspark/sql/dataframe.py:329: FutureWarning: Deprecated in 2.0, use createOrReplaceTempView instead.\n",
            "  warnings.warn(\"Deprecated in 2.0, use createOrReplaceTempView instead.\", FutureWarning)\n"
          ]
        }
      ]
    },
    {
      "cell_type": "markdown",
      "metadata": {
        "id": "PWOzPDAveLmd"
      },
      "source": [
        "* query to extract the label and their frequencies\n",
        "\n",
        " Hint: `SQLContext.sql(query)`"
      ],
      "id": "PWOzPDAveLmd"
    },
    {
      "cell_type": "code",
      "metadata": {
        "id": "thirty-automation",
        "colab": {
          "base_uri": "https://localhost:8080/"
        },
        "outputId": "6a1285da-0137-4ea1-96c8-1782f0c46f58"
      },
      "source": [
        "# YOUR CODE HERE\n",
        "query = \"SELECT intrusion_types, count(*) FROM interactions GROUP BY intrusion_types\"\n",
        "spark.sql(query).show()"
      ],
      "id": "thirty-automation",
      "execution_count": null,
      "outputs": [
        {
          "output_type": "stream",
          "name": "stdout",
          "text": [
            "+----------------+--------+\n",
            "| intrusion_types|count(1)|\n",
            "+----------------+--------+\n",
            "|    warezmaster.|      20|\n",
            "|          smurf.|  280790|\n",
            "|            pod.|     264|\n",
            "|           imap.|      12|\n",
            "|           nmap.|     231|\n",
            "|   guess_passwd.|      53|\n",
            "|        ipsweep.|    1247|\n",
            "|      portsweep.|    1040|\n",
            "|          satan.|    1589|\n",
            "|           land.|      21|\n",
            "|     loadmodule.|       9|\n",
            "|      ftp_write.|       8|\n",
            "|buffer_overflow.|      30|\n",
            "|        rootkit.|      10|\n",
            "|    warezclient.|    1020|\n",
            "|       teardrop.|     979|\n",
            "|           perl.|       3|\n",
            "|            phf.|       4|\n",
            "|       multihop.|       7|\n",
            "|        neptune.|  107201|\n",
            "+----------------+--------+\n",
            "only showing top 20 rows\n",
            "\n"
          ]
        }
      ]
    },
    {
      "cell_type": "markdown",
      "metadata": {
        "id": "dQ4d2Y8SeP48"
      },
      "source": [
        "* select the distinct protocol types with their count of transactions which are not normal"
      ],
      "id": "dQ4d2Y8SeP48"
    },
    {
      "cell_type": "code",
      "metadata": {
        "id": "respiratory-parking",
        "colab": {
          "base_uri": "https://localhost:8080/"
        },
        "outputId": "2db8512b-7275-416d-da0e-255f97f55dd2"
      },
      "source": [
        "# YOUR CODE HERE\n",
        "query = \"SELECT protocol_type, count(*) FROM interactions WHERE intrusion_types != 'normal.' GROUP BY protocol_type\"\n",
        "spark.sql(query).show()"
      ],
      "id": "respiratory-parking",
      "execution_count": null,
      "outputs": [
        {
          "output_type": "stream",
          "name": "stdout",
          "text": [
            "+-------------+--------+\n",
            "|protocol_type|count(1)|\n",
            "+-------------+--------+\n",
            "|          tcp|  113252|\n",
            "|          udp|    1177|\n",
            "|         icmp|  282314|\n",
            "+-------------+--------+\n",
            "\n"
          ]
        }
      ]
    },
    {
      "cell_type": "markdown",
      "metadata": {
        "id": "AGUDJ92yeSBa"
      },
      "source": [
        "* select count of transactions in each protocol type that lasts more than 1 second (duration > 1000), with no data transfer from destination (dst_bytes == 0)"
      ],
      "id": "AGUDJ92yeSBa"
    },
    {
      "cell_type": "code",
      "metadata": {
        "id": "conventional-driving",
        "colab": {
          "base_uri": "https://localhost:8080/"
        },
        "outputId": "3ee64cab-676a-4a06-f455-14fea7261b9e"
      },
      "source": [
        "# YOUR CODE HERE\n",
        "query = \"SELECT protocol_type, count(*) FROM interactions WHERE duration > 1000 AND dst_bytes == 0 GROUP BY protocol_type\"\n",
        "spark.sql(query).show()"
      ],
      "id": "conventional-driving",
      "execution_count": null,
      "outputs": [
        {
          "output_type": "stream",
          "name": "stdout",
          "text": [
            "+-------------+--------+\n",
            "|protocol_type|count(1)|\n",
            "+-------------+--------+\n",
            "|          tcp|     139|\n",
            "+-------------+--------+\n",
            "\n"
          ]
        }
      ]
    },
    {
      "cell_type": "markdown",
      "metadata": {
        "id": "likely-gambling"
      },
      "source": [
        "### Find the highly correlated columns (2 points)\n",
        "\n",
        "* identify the columns which are not integer type and remove those columns\n",
        "* apply correlation function on the data (Hint: `Statistics.corr()`)\n",
        "* collect the names of the columns on which correlation is applied\n",
        "* create a dataframe with correlation matrix with index and columns as names\n",
        "* get the highly correlated features by considering a correlation value greater than 0.8\n",
        "\n",
        "    Hint: `np.triu()` , `pd.mask()`"
      ],
      "id": "likely-gambling"
    },
    {
      "cell_type": "code",
      "metadata": {
        "id": "cooked-promise",
        "colab": {
          "base_uri": "https://localhost:8080/"
        },
        "outputId": "554d8ced-8860-409f-f521-520186dc210b"
      },
      "source": [
        "# YOUR CODE HERE\n",
        "columns_no_int = [col for col, dtype in df.dtypes if dtype != 'int']\n",
        "print(columns_no_int)\n",
        "print(len(columns_no_int))"
      ],
      "id": "cooked-promise",
      "execution_count": null,
      "outputs": [
        {
          "output_type": "stream",
          "name": "stdout",
          "text": [
            "['protocol_type', 'service', 'flag', 'serror_rate', 'srv_serror_rate', 'rerror_rate', 'srv_rerror_rate', 'same_srv_rate', 'diff_srv_rate', 'srv_diff_host_rate', 'dst_host_same_srv_rate', 'dst_host_diff_srv_rate', 'dst_host_same_src_port_rate', 'dst_host_srv_diff_host_rate', 'dst_host_serror_rate', 'dst_host_srv_serror_rate', 'dst_host_rerror_rate', 'dst_host_srv_rerror_rate', 'intrusion_types']\n",
            "19\n"
          ]
        }
      ]
    },
    {
      "cell_type": "code",
      "metadata": {
        "id": "polish-claim",
        "colab": {
          "base_uri": "https://localhost:8080/"
        },
        "outputId": "bb9cedac-fb38-4b93-c09c-3e658aefc71c"
      },
      "source": [
        "# eliminating names of columns having string type\n",
        "# YOUR CODE HERE\n",
        "df_filtered = df.drop(*columns_no_int)\n",
        "df_filtered.show(5)"
      ],
      "id": "polish-claim",
      "execution_count": null,
      "outputs": [
        {
          "output_type": "stream",
          "name": "stdout",
          "text": [
            "+--------+---------+---------+----+--------------+------+---+-----------------+---------+---------------+----------+------------+--------+------------------+----------+----------------+-----------------+-------------+--------------+-----+---------+--------------+------------------+\n",
            "|duration|src_bytes|dst_bytes|land|wrong_fragment|urgent|hot|num_failed_logins|logged_in|num_compromised|root_shell|su_attempted|num_root|num_file_creations|num_shells|num_access_files|num_outbound_cmds|is_host_login|is_guest_login|count|srv_count|dst_host_count|dst_host_srv_count|\n",
            "+--------+---------+---------+----+--------------+------+---+-----------------+---------+---------------+----------+------------+--------+------------------+----------+----------------+-----------------+-------------+--------------+-----+---------+--------------+------------------+\n",
            "|       0|      181|     5450|   0|             0|     0|  0|                0|        1|              0|         0|           0|       0|                 0|         0|               0|                0|            0|             0|    8|        8|             9|                 9|\n",
            "|       0|      239|      486|   0|             0|     0|  0|                0|        1|              0|         0|           0|       0|                 0|         0|               0|                0|            0|             0|    8|        8|            19|                19|\n",
            "|       0|      235|     1337|   0|             0|     0|  0|                0|        1|              0|         0|           0|       0|                 0|         0|               0|                0|            0|             0|    8|        8|            29|                29|\n",
            "|       0|      219|     1337|   0|             0|     0|  0|                0|        1|              0|         0|           0|       0|                 0|         0|               0|                0|            0|             0|    6|        6|            39|                39|\n",
            "|       0|      217|     2032|   0|             0|     0|  0|                0|        1|              0|         0|           0|       0|                 0|         0|               0|                0|            0|             0|    6|        6|            49|                49|\n",
            "+--------+---------+---------+----+--------------+------+---+-----------------+---------+---------------+----------+------------+--------+------------------+----------+----------------+-----------------+-------------+--------------+-----+---------+--------------+------------------+\n",
            "only showing top 5 rows\n",
            "\n"
          ]
        }
      ]
    },
    {
      "cell_type": "code",
      "metadata": {
        "id": "european-aaron",
        "colab": {
          "base_uri": "https://localhost:8080/"
        },
        "outputId": "9fd0cd1b-ab4a-433b-e006-14d337fdd210"
      },
      "source": [
        "# creating a dataframe with correlation matrix\n",
        "# YOUR CODE HERE\n",
        "corr_matrix = Statistics.corr(df_filtered.rdd.map(lambda row: row[0:]))\n",
        "print(corr_matrix)"
      ],
      "id": "european-aaron",
      "execution_count": null,
      "outputs": [
        {
          "output_type": "stream",
          "name": "stdout",
          "text": [
            "[[ 1.00000000e+00  4.25823027e-03  5.43953448e-03 -4.52402464e-04\n",
            "  -3.23503347e-03  3.78599654e-03  1.32129278e-02  5.23885992e-03\n",
            "  -1.72651583e-02  5.80950164e-02  2.13397701e-02  5.58534405e-02\n",
            "   5.67659749e-02  7.45617413e-02 -1.69186214e-04  2.56612072e-02\n",
            "              nan             nan  2.34237112e-02 -1.05153381e-01\n",
            "  -8.02499628e-02  1.00738427e-02 -1.17515082e-01]\n",
            " [ 4.25823027e-03  1.00000000e+00 -1.59677215e-06 -2.04319083e-05\n",
            "  -1.39037829e-04 -5.01365972e-06  4.48283643e-03 -2.73910647e-05\n",
            "   1.70064989e-03  1.18544398e-04 -2.18600234e-05 -9.84345381e-06\n",
            "  -9.84074791e-06  1.32386669e-05  4.64353408e-06 -5.18551453e-05\n",
            "              nan             nan -8.23182593e-05 -3.09808500e-03\n",
            "  -2.50083364e-03 -1.74258080e-03 -3.21193719e-03]\n",
            " [ 5.43953448e-03 -1.59677215e-06  1.00000000e+00 -1.75426309e-04\n",
            "  -1.25435975e-03  1.62876031e-02  4.36549491e-03  4.93299158e-02\n",
            "   4.78142601e-02  2.32979521e-02  3.16801173e-02  7.56560648e-02\n",
            "   2.07462494e-02  4.95759602e-03  1.43785966e-04  8.74641723e-03\n",
            "              nan             nan  1.28897532e-03 -4.03725268e-02\n",
            "  -3.05442678e-02 -4.88688400e-02 -5.84951587e-03]\n",
            " [-4.52402464e-04 -2.04319083e-05 -1.75426309e-04  1.00000000e+00\n",
            "  -3.18456727e-04 -1.71604806e-05 -2.94537372e-04 -6.52806036e-05\n",
            "  -2.78409448e-03 -3.78962311e-05 -7.04175842e-05 -3.12027036e-05\n",
            "  -3.76381561e-05 -7.49563712e-05 -6.61934624e-05 -1.84398646e-04\n",
            "              nan             nan -2.48669309e-04 -1.02597837e-02\n",
            "  -7.88622136e-03 -2.36707118e-02 -1.15872055e-02]\n",
            " [-3.23503347e-03 -1.39037829e-04 -1.25435975e-03 -3.18456727e-04\n",
            "   1.00000000e+00 -1.22710934e-04 -2.10617389e-03 -4.66807664e-04\n",
            "  -1.99084655e-02 -2.70987861e-04 -5.03541116e-04 -2.23123874e-04\n",
            "  -2.69142422e-04 -5.35997013e-04 -4.73335323e-04 -1.31859537e-03\n",
            "              nan             nan -1.77818116e-03 -6.19344857e-02\n",
            "  -4.77886382e-02 -5.19088392e-03 -5.86240647e-02]\n",
            " [ 3.78599654e-03 -5.01365972e-06  1.62876031e-02 -1.71604806e-05\n",
            "  -1.22710934e-04  1.00000000e+00  3.56205112e-04  1.41996430e-01\n",
            "   6.16375655e-03  1.42846420e-02  3.47904505e-02 -1.20233381e-05\n",
            "   9.47632010e-03  1.52114680e-02 -2.55063276e-05  2.00679775e-02\n",
            "              nan             nan -9.58197477e-05 -3.99672432e-03\n",
            "  -3.04733912e-03 -7.13932870e-03 -4.54048217e-03]\n",
            " [ 1.32129278e-02  4.48283643e-03  4.36549491e-03 -2.94537372e-04\n",
            "  -2.10617389e-03  3.56205112e-04  1.00000000e+00  8.74046462e-03\n",
            "   1.05304883e-01  7.34837907e-03  2.40648052e-02 -2.06364990e-04\n",
            "   9.98400383e-04  2.52474181e-02  6.37316792e-03  1.90198874e-03\n",
            "              nan             nan  8.43571537e-01 -6.84507969e-02\n",
            "  -5.21636850e-02 -2.63664227e-02 -3.87302969e-02]\n",
            " [ 5.23885992e-03 -2.73910647e-05  4.93299158e-02 -6.52806036e-05\n",
            "  -4.66807664e-04  1.41996430e-01  8.74046462e-03  1.00000000e+00\n",
            "  -1.14464701e-03  6.90715160e-03  3.69828976e-02  1.17116985e-01\n",
            "   3.24975792e-03  3.94845911e-03 -9.70292441e-05  3.30489835e-03\n",
            "              nan             nan -3.64510243e-04 -1.51844552e-02\n",
            "  -1.15776311e-02 -2.54436960e-02 -1.54129817e-02]\n",
            " [-1.72651583e-02  1.70064989e-03  4.78142601e-02 -2.78409448e-03\n",
            "  -1.99084655e-02  6.16375655e-03  1.05304883e-01 -1.14464701e-03\n",
            "   1.00000000e+00  1.36116900e-02  2.52928141e-02  1.12074873e-02\n",
            "   1.35189938e-02  2.69230702e-02  2.37755804e-02  6.62328982e-02\n",
            "              nan             nan  8.93178412e-02 -6.34642944e-01\n",
            "  -4.78121799e-01 -6.21029053e-01  1.19314555e-01]\n",
            " [ 5.80950164e-02  1.18544398e-04  2.32979521e-02 -3.78962311e-05\n",
            "  -2.70987861e-04  1.42846420e-02  7.34837907e-03  6.90715160e-03\n",
            "   1.36116900e-02  1.00000000e+00  2.55556585e-01  7.01399750e-01\n",
            "   9.93827798e-01  1.09335989e-02  9.34075090e-03  4.12238183e-01\n",
            "              nan             nan -2.11602890e-04 -8.79213545e-03\n",
            "  -6.70376593e-03 -8.36091503e-03 -4.79697792e-03]\n",
            " [ 2.13397701e-02 -2.18600234e-05  3.16801173e-02 -7.04175842e-05\n",
            "  -5.03541116e-04  3.47904505e-02  2.40648052e-02  3.69828976e-02\n",
            "   2.52928141e-02  2.55556585e-01  1.00000000e+00  2.95389916e-01\n",
            "   2.55400164e-01  9.14149302e-02  1.73991246e-01  1.52216778e-01\n",
            "              nan             nan -3.93193833e-04 -1.62240344e-02\n",
            "  -1.23426712e-02 -2.43839008e-02 -1.00261722e-02]\n",
            " [ 5.58534405e-02 -9.84345381e-06  7.56560648e-02 -3.12027036e-05\n",
            "  -2.23123874e-04 -1.20233381e-05 -2.06364990e-04  1.17116985e-01\n",
            "   1.12074873e-02  7.01399750e-01  2.95389916e-01  1.00000000e+00\n",
            "   6.95602532e-01  8.02996075e-03  2.35252653e-02  3.20283280e-01\n",
            "              nan             nan -1.74227940e-04 -7.26719765e-03\n",
            "  -5.53988696e-03 -6.56957809e-03 -6.53066742e-03]\n",
            " [ 5.67659749e-02 -9.84074791e-06  2.07462494e-02 -3.76381561e-05\n",
            "  -2.69142422e-04  9.47632010e-03  9.98400383e-04  3.24975792e-03\n",
            "   1.35189938e-02  9.93827798e-01  2.55400164e-01  6.95602532e-01\n",
            "   1.00000000e+00  9.71045199e-03  1.30857997e-02  4.13604893e-01\n",
            "              nan             nan -2.10161866e-04 -8.76160214e-03\n",
            "  -6.67717266e-03 -1.16105676e-02 -7.98490515e-03]\n",
            " [ 7.45617413e-02  1.32386669e-05  4.95759602e-03 -7.49563712e-05\n",
            "  -5.35997013e-04  1.52114680e-02  2.52474181e-02  3.94845911e-03\n",
            "   2.69230702e-02  1.09335989e-02  9.14149302e-02  8.02996075e-03\n",
            "   9.71045199e-03  1.00000000e+00  6.65681842e-02  7.96816743e-02\n",
            "              nan             nan  1.42507338e-02 -1.73802294e-02\n",
            "  -1.32596154e-02 -1.91263171e-02 -1.38711528e-02]\n",
            " [-1.69186214e-04  4.64353408e-06  1.43785966e-04 -6.61934624e-05\n",
            "  -4.73335323e-04 -2.55063276e-05  6.37316792e-03 -9.70292441e-05\n",
            "   2.37755804e-02  9.34075090e-03  1.73991246e-01  2.35252653e-02\n",
            "   1.30857997e-02  6.65681842e-02  1.00000000e+00  2.49008656e-02\n",
            "              nan             nan -3.69607414e-04 -1.51486323e-02\n",
            "  -1.15159351e-02 -1.71113550e-02 -1.22068306e-02]\n",
            " [ 2.56612072e-02 -5.18551453e-05  8.74641723e-03 -1.84398646e-04\n",
            "  -1.31859537e-03  2.00679775e-02  1.90198874e-03  3.30489835e-03\n",
            "   6.62328982e-02  4.12238183e-01  1.52216778e-01  3.20283280e-01\n",
            "   4.13604893e-01  7.96816743e-02  2.49008656e-02  1.00000000e+00\n",
            "              nan             nan  1.95257893e-03 -4.26629603e-02\n",
            "  -3.23680038e-02 -2.11515576e-02 -8.01358894e-04]\n",
            " [            nan             nan             nan             nan\n",
            "              nan             nan             nan             nan\n",
            "              nan             nan             nan             nan\n",
            "              nan             nan             nan             nan\n",
            "   1.00000000e+00             nan             nan             nan\n",
            "              nan             nan             nan]\n",
            " [            nan             nan             nan             nan\n",
            "              nan             nan             nan             nan\n",
            "              nan             nan             nan             nan\n",
            "              nan             nan             nan             nan\n",
            "              nan  1.00000000e+00             nan             nan\n",
            "              nan             nan             nan]\n",
            " [ 2.34237112e-02 -8.23182593e-05  1.28897532e-03 -2.48669309e-04\n",
            "  -1.77818116e-03 -9.58197477e-05  8.43571537e-01 -3.64510243e-04\n",
            "   8.93178412e-02 -2.11602890e-04 -3.93193833e-04 -1.74227940e-04\n",
            "  -2.10161866e-04  1.42507338e-02 -3.69607414e-04  1.95257893e-03\n",
            "              nan             nan  1.00000000e+00 -5.79083821e-02\n",
            "  -4.41559910e-02 -3.37867680e-02 -5.00158756e-02]\n",
            " [-1.05153381e-01 -3.09808500e-03 -4.03725268e-02 -1.02597837e-02\n",
            "  -6.19344857e-02 -3.99672432e-03 -6.84507969e-02 -1.51844552e-02\n",
            "  -6.34642944e-01 -8.79213545e-03 -1.62240344e-02 -7.26719765e-03\n",
            "  -8.76160214e-03 -1.73802294e-02 -1.51486323e-02 -4.26629603e-02\n",
            "              nan             nan -5.79083821e-02  1.00000000e+00\n",
            "   9.43667069e-01  5.32632162e-01  5.14581484e-01]\n",
            " [-8.02499628e-02 -2.50083364e-03 -3.05442678e-02 -7.88622136e-03\n",
            "  -4.77886382e-02 -3.04733912e-03 -5.21636850e-02 -1.15776311e-02\n",
            "  -4.78121799e-01 -6.70376593e-03 -1.23426712e-02 -5.53988696e-03\n",
            "  -6.67717266e-03 -1.32596154e-02 -1.15159351e-02 -3.23680038e-02\n",
            "              nan             nan -4.41559910e-02  9.43667069e-01\n",
            "   1.00000000e+00  4.01535525e-01  7.18451503e-01]\n",
            " [ 1.00738427e-02 -1.74258080e-03 -4.88688400e-02 -2.36707118e-02\n",
            "  -5.19088392e-03 -7.13932870e-03 -2.63664227e-02 -2.54436960e-02\n",
            "  -6.21029053e-01 -8.36091503e-03 -2.43839008e-02 -6.56957809e-03\n",
            "  -1.16105676e-02 -1.91263171e-02 -1.71113550e-02 -2.11515576e-02\n",
            "              nan             nan -3.37867680e-02  5.32632162e-01\n",
            "   4.01535525e-01  1.00000000e+00 -2.72357671e-02]\n",
            " [-1.17515082e-01 -3.21193719e-03 -5.84951587e-03 -1.15872055e-02\n",
            "  -5.86240647e-02 -4.54048217e-03 -3.87302969e-02 -1.54129817e-02\n",
            "   1.19314555e-01 -4.79697792e-03 -1.00261722e-02 -6.53066742e-03\n",
            "  -7.98490515e-03 -1.38711528e-02 -1.22068306e-02 -8.01358894e-04\n",
            "              nan             nan -5.00158756e-02  5.14581484e-01\n",
            "   7.18451503e-01 -2.72357671e-02  1.00000000e+00]]\n"
          ]
        }
      ]
    },
    {
      "cell_type": "code",
      "metadata": {
        "id": "skilled-domestic",
        "colab": {
          "base_uri": "https://localhost:8080/"
        },
        "outputId": "cbbe7612-7835-43d5-935e-9341a23e9331"
      },
      "source": [
        "#  fill the null values with 0\n",
        "# YOUR CODE HERE\n",
        "corr_matrix_np = np.array(corr_matrix)\n",
        "corr_matrix_np[np.isnan(corr_matrix_np)] = 0\n",
        "print(corr_matrix_np)"
      ],
      "id": "skilled-domestic",
      "execution_count": null,
      "outputs": [
        {
          "output_type": "stream",
          "name": "stdout",
          "text": [
            "[[ 1.00000000e+00  4.25823027e-03  5.43953448e-03 -4.52402464e-04\n",
            "  -3.23503347e-03  3.78599654e-03  1.32129278e-02  5.23885992e-03\n",
            "  -1.72651583e-02  5.80950164e-02  2.13397701e-02  5.58534405e-02\n",
            "   5.67659749e-02  7.45617413e-02 -1.69186214e-04  2.56612072e-02\n",
            "   0.00000000e+00  0.00000000e+00  2.34237112e-02 -1.05153381e-01\n",
            "  -8.02499628e-02  1.00738427e-02 -1.17515082e-01]\n",
            " [ 4.25823027e-03  1.00000000e+00 -1.59677215e-06 -2.04319083e-05\n",
            "  -1.39037829e-04 -5.01365972e-06  4.48283643e-03 -2.73910647e-05\n",
            "   1.70064989e-03  1.18544398e-04 -2.18600234e-05 -9.84345381e-06\n",
            "  -9.84074791e-06  1.32386669e-05  4.64353408e-06 -5.18551453e-05\n",
            "   0.00000000e+00  0.00000000e+00 -8.23182593e-05 -3.09808500e-03\n",
            "  -2.50083364e-03 -1.74258080e-03 -3.21193719e-03]\n",
            " [ 5.43953448e-03 -1.59677215e-06  1.00000000e+00 -1.75426309e-04\n",
            "  -1.25435975e-03  1.62876031e-02  4.36549491e-03  4.93299158e-02\n",
            "   4.78142601e-02  2.32979521e-02  3.16801173e-02  7.56560648e-02\n",
            "   2.07462494e-02  4.95759602e-03  1.43785966e-04  8.74641723e-03\n",
            "   0.00000000e+00  0.00000000e+00  1.28897532e-03 -4.03725268e-02\n",
            "  -3.05442678e-02 -4.88688400e-02 -5.84951587e-03]\n",
            " [-4.52402464e-04 -2.04319083e-05 -1.75426309e-04  1.00000000e+00\n",
            "  -3.18456727e-04 -1.71604806e-05 -2.94537372e-04 -6.52806036e-05\n",
            "  -2.78409448e-03 -3.78962311e-05 -7.04175842e-05 -3.12027036e-05\n",
            "  -3.76381561e-05 -7.49563712e-05 -6.61934624e-05 -1.84398646e-04\n",
            "   0.00000000e+00  0.00000000e+00 -2.48669309e-04 -1.02597837e-02\n",
            "  -7.88622136e-03 -2.36707118e-02 -1.15872055e-02]\n",
            " [-3.23503347e-03 -1.39037829e-04 -1.25435975e-03 -3.18456727e-04\n",
            "   1.00000000e+00 -1.22710934e-04 -2.10617389e-03 -4.66807664e-04\n",
            "  -1.99084655e-02 -2.70987861e-04 -5.03541116e-04 -2.23123874e-04\n",
            "  -2.69142422e-04 -5.35997013e-04 -4.73335323e-04 -1.31859537e-03\n",
            "   0.00000000e+00  0.00000000e+00 -1.77818116e-03 -6.19344857e-02\n",
            "  -4.77886382e-02 -5.19088392e-03 -5.86240647e-02]\n",
            " [ 3.78599654e-03 -5.01365972e-06  1.62876031e-02 -1.71604806e-05\n",
            "  -1.22710934e-04  1.00000000e+00  3.56205112e-04  1.41996430e-01\n",
            "   6.16375655e-03  1.42846420e-02  3.47904505e-02 -1.20233381e-05\n",
            "   9.47632010e-03  1.52114680e-02 -2.55063276e-05  2.00679775e-02\n",
            "   0.00000000e+00  0.00000000e+00 -9.58197477e-05 -3.99672432e-03\n",
            "  -3.04733912e-03 -7.13932870e-03 -4.54048217e-03]\n",
            " [ 1.32129278e-02  4.48283643e-03  4.36549491e-03 -2.94537372e-04\n",
            "  -2.10617389e-03  3.56205112e-04  1.00000000e+00  8.74046462e-03\n",
            "   1.05304883e-01  7.34837907e-03  2.40648052e-02 -2.06364990e-04\n",
            "   9.98400383e-04  2.52474181e-02  6.37316792e-03  1.90198874e-03\n",
            "   0.00000000e+00  0.00000000e+00  8.43571537e-01 -6.84507969e-02\n",
            "  -5.21636850e-02 -2.63664227e-02 -3.87302969e-02]\n",
            " [ 5.23885992e-03 -2.73910647e-05  4.93299158e-02 -6.52806036e-05\n",
            "  -4.66807664e-04  1.41996430e-01  8.74046462e-03  1.00000000e+00\n",
            "  -1.14464701e-03  6.90715160e-03  3.69828976e-02  1.17116985e-01\n",
            "   3.24975792e-03  3.94845911e-03 -9.70292441e-05  3.30489835e-03\n",
            "   0.00000000e+00  0.00000000e+00 -3.64510243e-04 -1.51844552e-02\n",
            "  -1.15776311e-02 -2.54436960e-02 -1.54129817e-02]\n",
            " [-1.72651583e-02  1.70064989e-03  4.78142601e-02 -2.78409448e-03\n",
            "  -1.99084655e-02  6.16375655e-03  1.05304883e-01 -1.14464701e-03\n",
            "   1.00000000e+00  1.36116900e-02  2.52928141e-02  1.12074873e-02\n",
            "   1.35189938e-02  2.69230702e-02  2.37755804e-02  6.62328982e-02\n",
            "   0.00000000e+00  0.00000000e+00  8.93178412e-02 -6.34642944e-01\n",
            "  -4.78121799e-01 -6.21029053e-01  1.19314555e-01]\n",
            " [ 5.80950164e-02  1.18544398e-04  2.32979521e-02 -3.78962311e-05\n",
            "  -2.70987861e-04  1.42846420e-02  7.34837907e-03  6.90715160e-03\n",
            "   1.36116900e-02  1.00000000e+00  2.55556585e-01  7.01399750e-01\n",
            "   9.93827798e-01  1.09335989e-02  9.34075090e-03  4.12238183e-01\n",
            "   0.00000000e+00  0.00000000e+00 -2.11602890e-04 -8.79213545e-03\n",
            "  -6.70376593e-03 -8.36091503e-03 -4.79697792e-03]\n",
            " [ 2.13397701e-02 -2.18600234e-05  3.16801173e-02 -7.04175842e-05\n",
            "  -5.03541116e-04  3.47904505e-02  2.40648052e-02  3.69828976e-02\n",
            "   2.52928141e-02  2.55556585e-01  1.00000000e+00  2.95389916e-01\n",
            "   2.55400164e-01  9.14149302e-02  1.73991246e-01  1.52216778e-01\n",
            "   0.00000000e+00  0.00000000e+00 -3.93193833e-04 -1.62240344e-02\n",
            "  -1.23426712e-02 -2.43839008e-02 -1.00261722e-02]\n",
            " [ 5.58534405e-02 -9.84345381e-06  7.56560648e-02 -3.12027036e-05\n",
            "  -2.23123874e-04 -1.20233381e-05 -2.06364990e-04  1.17116985e-01\n",
            "   1.12074873e-02  7.01399750e-01  2.95389916e-01  1.00000000e+00\n",
            "   6.95602532e-01  8.02996075e-03  2.35252653e-02  3.20283280e-01\n",
            "   0.00000000e+00  0.00000000e+00 -1.74227940e-04 -7.26719765e-03\n",
            "  -5.53988696e-03 -6.56957809e-03 -6.53066742e-03]\n",
            " [ 5.67659749e-02 -9.84074791e-06  2.07462494e-02 -3.76381561e-05\n",
            "  -2.69142422e-04  9.47632010e-03  9.98400383e-04  3.24975792e-03\n",
            "   1.35189938e-02  9.93827798e-01  2.55400164e-01  6.95602532e-01\n",
            "   1.00000000e+00  9.71045199e-03  1.30857997e-02  4.13604893e-01\n",
            "   0.00000000e+00  0.00000000e+00 -2.10161866e-04 -8.76160214e-03\n",
            "  -6.67717266e-03 -1.16105676e-02 -7.98490515e-03]\n",
            " [ 7.45617413e-02  1.32386669e-05  4.95759602e-03 -7.49563712e-05\n",
            "  -5.35997013e-04  1.52114680e-02  2.52474181e-02  3.94845911e-03\n",
            "   2.69230702e-02  1.09335989e-02  9.14149302e-02  8.02996075e-03\n",
            "   9.71045199e-03  1.00000000e+00  6.65681842e-02  7.96816743e-02\n",
            "   0.00000000e+00  0.00000000e+00  1.42507338e-02 -1.73802294e-02\n",
            "  -1.32596154e-02 -1.91263171e-02 -1.38711528e-02]\n",
            " [-1.69186214e-04  4.64353408e-06  1.43785966e-04 -6.61934624e-05\n",
            "  -4.73335323e-04 -2.55063276e-05  6.37316792e-03 -9.70292441e-05\n",
            "   2.37755804e-02  9.34075090e-03  1.73991246e-01  2.35252653e-02\n",
            "   1.30857997e-02  6.65681842e-02  1.00000000e+00  2.49008656e-02\n",
            "   0.00000000e+00  0.00000000e+00 -3.69607414e-04 -1.51486323e-02\n",
            "  -1.15159351e-02 -1.71113550e-02 -1.22068306e-02]\n",
            " [ 2.56612072e-02 -5.18551453e-05  8.74641723e-03 -1.84398646e-04\n",
            "  -1.31859537e-03  2.00679775e-02  1.90198874e-03  3.30489835e-03\n",
            "   6.62328982e-02  4.12238183e-01  1.52216778e-01  3.20283280e-01\n",
            "   4.13604893e-01  7.96816743e-02  2.49008656e-02  1.00000000e+00\n",
            "   0.00000000e+00  0.00000000e+00  1.95257893e-03 -4.26629603e-02\n",
            "  -3.23680038e-02 -2.11515576e-02 -8.01358894e-04]\n",
            " [ 0.00000000e+00  0.00000000e+00  0.00000000e+00  0.00000000e+00\n",
            "   0.00000000e+00  0.00000000e+00  0.00000000e+00  0.00000000e+00\n",
            "   0.00000000e+00  0.00000000e+00  0.00000000e+00  0.00000000e+00\n",
            "   0.00000000e+00  0.00000000e+00  0.00000000e+00  0.00000000e+00\n",
            "   1.00000000e+00  0.00000000e+00  0.00000000e+00  0.00000000e+00\n",
            "   0.00000000e+00  0.00000000e+00  0.00000000e+00]\n",
            " [ 0.00000000e+00  0.00000000e+00  0.00000000e+00  0.00000000e+00\n",
            "   0.00000000e+00  0.00000000e+00  0.00000000e+00  0.00000000e+00\n",
            "   0.00000000e+00  0.00000000e+00  0.00000000e+00  0.00000000e+00\n",
            "   0.00000000e+00  0.00000000e+00  0.00000000e+00  0.00000000e+00\n",
            "   0.00000000e+00  1.00000000e+00  0.00000000e+00  0.00000000e+00\n",
            "   0.00000000e+00  0.00000000e+00  0.00000000e+00]\n",
            " [ 2.34237112e-02 -8.23182593e-05  1.28897532e-03 -2.48669309e-04\n",
            "  -1.77818116e-03 -9.58197477e-05  8.43571537e-01 -3.64510243e-04\n",
            "   8.93178412e-02 -2.11602890e-04 -3.93193833e-04 -1.74227940e-04\n",
            "  -2.10161866e-04  1.42507338e-02 -3.69607414e-04  1.95257893e-03\n",
            "   0.00000000e+00  0.00000000e+00  1.00000000e+00 -5.79083821e-02\n",
            "  -4.41559910e-02 -3.37867680e-02 -5.00158756e-02]\n",
            " [-1.05153381e-01 -3.09808500e-03 -4.03725268e-02 -1.02597837e-02\n",
            "  -6.19344857e-02 -3.99672432e-03 -6.84507969e-02 -1.51844552e-02\n",
            "  -6.34642944e-01 -8.79213545e-03 -1.62240344e-02 -7.26719765e-03\n",
            "  -8.76160214e-03 -1.73802294e-02 -1.51486323e-02 -4.26629603e-02\n",
            "   0.00000000e+00  0.00000000e+00 -5.79083821e-02  1.00000000e+00\n",
            "   9.43667069e-01  5.32632162e-01  5.14581484e-01]\n",
            " [-8.02499628e-02 -2.50083364e-03 -3.05442678e-02 -7.88622136e-03\n",
            "  -4.77886382e-02 -3.04733912e-03 -5.21636850e-02 -1.15776311e-02\n",
            "  -4.78121799e-01 -6.70376593e-03 -1.23426712e-02 -5.53988696e-03\n",
            "  -6.67717266e-03 -1.32596154e-02 -1.15159351e-02 -3.23680038e-02\n",
            "   0.00000000e+00  0.00000000e+00 -4.41559910e-02  9.43667069e-01\n",
            "   1.00000000e+00  4.01535525e-01  7.18451503e-01]\n",
            " [ 1.00738427e-02 -1.74258080e-03 -4.88688400e-02 -2.36707118e-02\n",
            "  -5.19088392e-03 -7.13932870e-03 -2.63664227e-02 -2.54436960e-02\n",
            "  -6.21029053e-01 -8.36091503e-03 -2.43839008e-02 -6.56957809e-03\n",
            "  -1.16105676e-02 -1.91263171e-02 -1.71113550e-02 -2.11515576e-02\n",
            "   0.00000000e+00  0.00000000e+00 -3.37867680e-02  5.32632162e-01\n",
            "   4.01535525e-01  1.00000000e+00 -2.72357671e-02]\n",
            " [-1.17515082e-01 -3.21193719e-03 -5.84951587e-03 -1.15872055e-02\n",
            "  -5.86240647e-02 -4.54048217e-03 -3.87302969e-02 -1.54129817e-02\n",
            "   1.19314555e-01 -4.79697792e-03 -1.00261722e-02 -6.53066742e-03\n",
            "  -7.98490515e-03 -1.38711528e-02 -1.22068306e-02 -8.01358894e-04\n",
            "   0.00000000e+00  0.00000000e+00 -5.00158756e-02  5.14581484e-01\n",
            "   7.18451503e-01 -2.72357671e-02  1.00000000e+00]]\n"
          ]
        }
      ]
    },
    {
      "cell_type": "code",
      "metadata": {
        "id": "approved-dublin",
        "colab": {
          "base_uri": "https://localhost:8080/"
        },
        "outputId": "c2bef524-dab8-43ae-fbd9-bab0b0cb3817"
      },
      "source": [
        "# Finding features with correlation value more than specified threshold value (bar=0.9)\n",
        "# YOUR CODE HERE\n",
        "threshold = 0.9\n",
        "mask = np.triu(np.ones(corr_matrix_np.shape), k=1)  # Upper triangle mask to avoid duplicates\n",
        "\n",
        "# Mask correlation values below the threshold\n",
        "masked_corr_matrix = np.ma.masked_less(corr_matrix_np, threshold)\n",
        "\n",
        "highly_correlated_features = []\n",
        "\n",
        "# Iterate over the upper triangle of the correlation matrix to collect pairs\n",
        "for i in range(masked_corr_matrix.shape[0]):\n",
        "    for j in range(i + 1, masked_corr_matrix.shape[1]):\n",
        "        if not masked_corr_matrix.mask[i, j]:  # If value is not masked (i.e., above threshold)\n",
        "            feature1 = df_filtered.columns[i]  # Using column names from the original DataFrame\n",
        "            feature2 = df_filtered.columns[j]  # Using column names from the original DataFrame\n",
        "            corr_value = masked_corr_matrix[i, j]\n",
        "            highly_correlated_features.append((feature1, feature2, corr_value))\n",
        "\n",
        "print(\"Highly correlated feature pairs (correlation > 0.9):\")\n",
        "for feature1, feature2, corr in highly_correlated_features:\n",
        "    print(f\"Features: {feature1} - {feature2}, Correlation: {corr:.2f}\")\n"
      ],
      "id": "approved-dublin",
      "execution_count": null,
      "outputs": [
        {
          "output_type": "stream",
          "name": "stdout",
          "text": [
            "Highly correlated feature pairs (correlation > 0.9):\n",
            "Features: num_compromised - num_root, Correlation: 0.99\n",
            "Features: count - srv_count, Correlation: 0.94\n"
          ]
        }
      ]
    },
    {
      "cell_type": "markdown",
      "metadata": {
        "id": "working-accident"
      },
      "source": [
        "### Analysis report (1 points)\n",
        "\n",
        "* Find the ratio of attacked transactions vs normal transactions\n",
        "\n",
        "    Hint: encode instrusion_type column by replacing normal with 1 and all other with 0\n",
        "\n",
        "* Describe the statistics of attacked and normal transactions\n",
        "    \n",
        "    Hint: Min, Max, Mean\n",
        "    \n",
        "* Select any two features that influence the intrusion_type and visualize the scatter plot to see the separation of normal and attacked"
      ],
      "id": "working-accident"
    },
    {
      "cell_type": "code",
      "metadata": {
        "id": "greatest-pressing",
        "colab": {
          "base_uri": "https://localhost:8080/"
        },
        "outputId": "0f23d29d-cebb-4af2-fe1a-b070fef346c5"
      },
      "source": [
        "# YOUR CODE HERE\n",
        "from pyspark.sql import functions as F\n",
        "\n",
        "df = df.withColumn('encoded_intrusion',\n",
        "                   F.when(df['intrusion_types'] == 'normal.', 1)\n",
        "                    .otherwise(0))\n",
        "\n",
        "normal_transactions = df.filter(df['encoded_intrusion'] == 1).count()\n",
        "print(normal_transactions)\n",
        "attacked_transactions = df.filter(df['encoded_intrusion'] == 0).count()\n",
        "print(attacked_transactions)\n",
        "ratio = attacked_transactions / normal_transactions\n",
        "\n",
        "print(f\"Ratio of attacked transactions to normal transactions: {ratio:.2f}\")\n"
      ],
      "id": "greatest-pressing",
      "execution_count": null,
      "outputs": [
        {
          "output_type": "stream",
          "name": "stdout",
          "text": [
            "97278\n",
            "396743\n",
            "Ratio of attacked transactions to normal transactions: 4.08\n"
          ]
        }
      ]
    },
    {
      "cell_type": "code",
      "metadata": {
        "id": "dimensional-inspiration",
        "colab": {
          "base_uri": "https://localhost:8080/"
        },
        "outputId": "26500f60-85b0-4c14-f7e0-a2dc6476d7a4"
      },
      "source": [
        "# YOUR CODE HERE\n",
        "normal_transactions_df = df.filter(df['encoded_intrusion'] == 1)\n",
        "attacked_transactions_df = df.filter(df['encoded_intrusion'] == 0)\n",
        "\n",
        "normal_stats_specific = normal_transactions_df.select(\n",
        "    F.min('duration').alias('min_duration'),\n",
        "    F.max('duration').alias('max_duration'),\n",
        "    F.avg('duration').alias('mean_duration'),\n",
        "    F.min('src_bytes').alias('min_src_bytes'),\n",
        "    F.max('src_bytes').alias('max_src_bytes'),\n",
        "    F.avg('src_bytes').alias('mean_src_bytes')\n",
        ").show()\n",
        "\n",
        "attacked_stats_specific = attacked_transactions_df.select(\n",
        "    F.min('duration').alias('min_duration'),\n",
        "    F.max('duration').alias('max_duration'),\n",
        "    F.avg('duration').alias('mean_duration'),\n",
        "    F.min('src_bytes').alias('min_src_bytes'),\n",
        "    F.max('src_bytes').alias('max_src_bytes'),\n",
        "    F.avg('src_bytes').alias('mean_src_bytes')\n",
        ").show()\n"
      ],
      "id": "dimensional-inspiration",
      "execution_count": null,
      "outputs": [
        {
          "output_type": "stream",
          "name": "stdout",
          "text": [
            "+------------+------------+------------------+-------------+-------------+-----------------+\n",
            "|min_duration|max_duration|     mean_duration|min_src_bytes|max_src_bytes|   mean_src_bytes|\n",
            "+------------+------------+------------------+-------------+-------------+-----------------+\n",
            "|           0|       58329|216.65732231336992|            0|      2194619|1157.047523592179|\n",
            "+------------+------------+------------------+-------------+-------------+-----------------+\n",
            "\n",
            "+------------+------------+-----------------+-------------+-------------+------------------+\n",
            "|min_duration|max_duration|    mean_duration|min_src_bytes|max_src_bytes|    mean_src_bytes|\n",
            "+------------+------------+-----------------+-------------+-------------+------------------+\n",
            "|           0|       42448|6.620890601724542|            0|    693375640|3483.7659517622237|\n",
            "+------------+------------+-----------------+-------------+-------------+------------------+\n",
            "\n"
          ]
        }
      ]
    },
    {
      "cell_type": "code",
      "metadata": {
        "id": "csNSaN2oaNYS",
        "colab": {
          "base_uri": "https://localhost:8080/",
          "height": 564
        },
        "outputId": "d1d0e720-ec7f-4a04-b485-626fddeee30b"
      },
      "source": [
        "# YOUR CODE HERE\n",
        "\n",
        "feature1 = 'duration'\n",
        "feature2 = 'src_bytes'\n",
        "\n",
        "# Create a DataFrame with the relevant features and the encoded intrusion type\n",
        "df_with_intrusion = df.select(feature1, feature2, 'encoded_intrusion')\n",
        "\n",
        "# Convert the DataFrame to Pandas for visualization\n",
        "df_pandas = df_with_intrusion.toPandas()\n",
        "\n",
        "# Visualize using a scatter plot\n",
        "plt.figure(figsize=(10, 6))\n",
        "\n",
        "sns.scatterplot(x=feature1, y=feature2, hue='encoded_intrusion', style='encoded_intrusion', data=df_pandas, palette={0: 'red', 1: 'green'})\n",
        "\n",
        "# Adding labels and title\n",
        "plt.title('Separation of Normal and Attacked Transactions Based on Features')\n",
        "plt.xlabel(feature1)\n",
        "plt.ylabel(feature2)\n",
        "plt.legend(title='Intrusion Type', loc='best')\n",
        "\n",
        "plt.show()\n"
      ],
      "id": "csNSaN2oaNYS",
      "execution_count": null,
      "outputs": [
        {
          "output_type": "display_data",
          "data": {
            "text/plain": [
              "<Figure size 1000x600 with 1 Axes>"
            ],
            "image/png": "[encoded data removed]"
          },
          "metadata": {}
        }
      ]
    }
  ]
}